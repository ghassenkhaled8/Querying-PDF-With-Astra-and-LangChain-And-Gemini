{
  "cells": [
    {
      "cell_type": "markdown",
      "metadata": {
        "id": "wrgOhk8U4Rpl"
      },
      "source": [
        "# Querying PDF With Astra and LangChain\n",
        "\n",
        "### A question-answering demo using Astra DB and LangChain, powered by Vector Search"
      ]
    },
    {
      "cell_type": "markdown",
      "metadata": {
        "id": "MqfJKgRM4Rpo"
      },
      "source": [
        "#### Pre-requisites:\n",
        "\n",
        "You need a **_Serverless Cassandra with Vector Search_** database on [Astra DB](https://astra.datastax.com) to run this demo. As outlined in more detail [here](https://docs.datastax.com/en/astra-serverless/docs/vector-search/quickstart.html#_prepare_for_using_your_vector_database), you should get a DB Token with role _Database Administrator_ and copy your Database ID: these connection parameters are needed momentarily.\n",
        "\n",
        "\n",
        "#### What you will do:\n",
        "\n",
        "- Setup: import dependencies, provide secrets, create the LangChain vector store;\n",
        "- Run a Question-Answering loop retrieving the relevant headlines and having an LLM construct the answer."
      ]
    },
    {
      "cell_type": "markdown",
      "metadata": {
        "id": "m_FeN-Ep4Rpp"
      },
      "source": [
        "Install the required dependencies:"
      ]
    },
    {
      "cell_type": "code",
      "execution_count": null,
      "metadata": {
        "colab": {
          "base_uri": "https://localhost:8080/"
        },
        "execution": {
          "iopub.execute_input": "2025-04-20T19:42:31.897899Z",
          "iopub.status.busy": "2025-04-20T19:42:31.897534Z",
          "iopub.status.idle": "2025-04-20T19:42:42.041839Z",
          "shell.execute_reply": "2025-04-20T19:42:42.040465Z",
          "shell.execute_reply.started": "2025-04-20T19:42:31.897870Z"
        },
        "id": "Uk0qUhJUQrkO",
        "outputId": "cdf699e7-fb29-480e-de66-ce64f511061a",
        "trusted": true
      },
      "outputs": [
        {
          "name": "stdout",
          "output_type": "stream",
          "text": [
            "\u001b[?25l   \u001b[90m━━━━━━━━━━━━━━━━━━━━━━━━━━━━━━━━━━━━━━━━\u001b[0m \u001b[32m0.0/45.7 kB\u001b[0m \u001b[31m?\u001b[0m eta \u001b[36m-:--:--\u001b[0m\r\u001b[2K   \u001b[90m━━━━━━━━━━━━━━━━━━━━━━━━━━━━━━━━━━━━━━━━\u001b[0m \u001b[32m45.7/45.7 kB\u001b[0m \u001b[31m2.0 MB/s\u001b[0m eta \u001b[36m0:00:00\u001b[0m\n",
            "\u001b[2K   \u001b[90m━━━━━━━━━━━━━━━━━━━━━━━━━━━━━━━━━━━━━━━━\u001b[0m \u001b[32m491.2/491.2 kB\u001b[0m \u001b[31m11.2 MB/s\u001b[0m eta \u001b[36m0:00:00\u001b[0m\n",
            "\u001b[2K   \u001b[90m━━━━━━━━━━━━━━━━━━━━━━━━━━━━━━━━━━━━━━━━\u001b[0m \u001b[32m1.2/1.2 MB\u001b[0m \u001b[31m36.7 MB/s\u001b[0m eta \u001b[36m0:00:00\u001b[0m\n",
            "\u001b[2K   \u001b[90m━━━━━━━━━━━━━━━━━━━━━━━━━━━━━━━━━━━━━━━━\u001b[0m \u001b[32m3.9/3.9 MB\u001b[0m \u001b[31m87.0 MB/s\u001b[0m eta \u001b[36m0:00:00\u001b[0m\n",
            "\u001b[2K   \u001b[90m━━━━━━━━━━━━━━━━━━━━━━━━━━━━━━━━━━━━━━━━\u001b[0m \u001b[32m116.3/116.3 kB\u001b[0m \u001b[31m9.0 MB/s\u001b[0m eta \u001b[36m0:00:00\u001b[0m\n",
            "\u001b[2K   \u001b[90m━━━━━━━━━━━━━━━━━━━━━━━━━━━━━━━━━━━━━━━━\u001b[0m \u001b[32m183.9/183.9 kB\u001b[0m \u001b[31m14.3 MB/s\u001b[0m eta \u001b[36m0:00:00\u001b[0m\n",
            "\u001b[2K   \u001b[90m━━━━━━━━━━━━━━━━━━━━━━━━━━━━━━━━━━━━━━━━\u001b[0m \u001b[32m143.5/143.5 kB\u001b[0m \u001b[31m8.7 MB/s\u001b[0m eta \u001b[36m0:00:00\u001b[0m\n",
            "\u001b[2K   \u001b[90m━━━━━━━━━━━━━━━━━━━━━━━━━━━━━━━━━━━━━━━━\u001b[0m \u001b[32m194.8/194.8 kB\u001b[0m \u001b[31m14.8 MB/s\u001b[0m eta \u001b[36m0:00:00\u001b[0m\n",
            "\u001b[?25h\u001b[31mERROR: pip's dependency resolver does not currently take into account all the packages that are installed. This behaviour is the source of the following dependency conflicts.\n",
            "gcsfs 2025.3.2 requires fsspec==2025.3.2, but you have fsspec 2024.12.0 which is incompatible.\n",
            "torch 2.6.0+cu124 requires nvidia-cublas-cu12==12.4.5.8; platform_system == \"Linux\" and platform_machine == \"x86_64\", but you have nvidia-cublas-cu12 12.5.3.2 which is incompatible.\n",
            "torch 2.6.0+cu124 requires nvidia-cuda-cupti-cu12==12.4.127; platform_system == \"Linux\" and platform_machine == \"x86_64\", but you have nvidia-cuda-cupti-cu12 12.5.82 which is incompatible.\n",
            "torch 2.6.0+cu124 requires nvidia-cuda-nvrtc-cu12==12.4.127; platform_system == \"Linux\" and platform_machine == \"x86_64\", but you have nvidia-cuda-nvrtc-cu12 12.5.82 which is incompatible.\n",
            "torch 2.6.0+cu124 requires nvidia-cuda-runtime-cu12==12.4.127; platform_system == \"Linux\" and platform_machine == \"x86_64\", but you have nvidia-cuda-runtime-cu12 12.5.82 which is incompatible.\n",
            "torch 2.6.0+cu124 requires nvidia-cudnn-cu12==9.1.0.70; platform_system == \"Linux\" and platform_machine == \"x86_64\", but you have nvidia-cudnn-cu12 9.3.0.75 which is incompatible.\n",
            "torch 2.6.0+cu124 requires nvidia-cufft-cu12==11.2.1.3; platform_system == \"Linux\" and platform_machine == \"x86_64\", but you have nvidia-cufft-cu12 11.2.3.61 which is incompatible.\n",
            "torch 2.6.0+cu124 requires nvidia-curand-cu12==10.3.5.147; platform_system == \"Linux\" and platform_machine == \"x86_64\", but you have nvidia-curand-cu12 10.3.6.82 which is incompatible.\n",
            "torch 2.6.0+cu124 requires nvidia-cusolver-cu12==11.6.1.9; platform_system == \"Linux\" and platform_machine == \"x86_64\", but you have nvidia-cusolver-cu12 11.6.3.83 which is incompatible.\n",
            "torch 2.6.0+cu124 requires nvidia-cusparse-cu12==12.3.1.170; platform_system == \"Linux\" and platform_machine == \"x86_64\", but you have nvidia-cusparse-cu12 12.5.1.3 which is incompatible.\n",
            "torch 2.6.0+cu124 requires nvidia-nvjitlink-cu12==12.4.127; platform_system == \"Linux\" and platform_machine == \"x86_64\", but you have nvidia-nvjitlink-cu12 12.5.82 which is incompatible.\u001b[0m\u001b[31m\n",
            "\u001b[0m"
          ]
        }
      ],
      "source": [
        "!pip install -q cassio datasets langchain openai tiktoken"
      ]
    },
    {
      "cell_type": "code",
      "execution_count": null,
      "metadata": {
        "colab": {
          "base_uri": "https://localhost:8080/"
        },
        "id": "xO_8zh6tvyCv",
        "outputId": "3307189e-8c30-4c07-aaaf-824ba0ecdaba"
      },
      "outputs": [
        {
          "name": "stdout",
          "output_type": "stream",
          "text": [
            "Collecting langchain-community\n",
            "  Downloading langchain_community-0.3.22-py3-none-any.whl.metadata (2.4 kB)\n",
            "Collecting langchain-core<1.0.0,>=0.3.55 (from langchain-community)\n",
            "  Downloading langchain_core-0.3.55-py3-none-any.whl.metadata (5.9 kB)\n",
            "Collecting langchain<1.0.0,>=0.3.24 (from langchain-community)\n",
            "  Downloading langchain-0.3.24-py3-none-any.whl.metadata (7.8 kB)\n",
            "Requirement already satisfied: SQLAlchemy<3,>=1.4 in /usr/local/lib/python3.11/dist-packages (from langchain-community) (2.0.40)\n",
            "Requirement already satisfied: requests<3,>=2 in /usr/local/lib/python3.11/dist-packages (from langchain-community) (2.32.3)\n",
            "Requirement already satisfied: PyYAML>=5.3 in /usr/local/lib/python3.11/dist-packages (from langchain-community) (6.0.2)\n",
            "Requirement already satisfied: aiohttp<4.0.0,>=3.8.3 in /usr/local/lib/python3.11/dist-packages (from langchain-community) (3.11.15)\n",
            "Requirement already satisfied: tenacity!=8.4.0,<10,>=8.1.0 in /usr/local/lib/python3.11/dist-packages (from langchain-community) (9.1.2)\n",
            "Collecting dataclasses-json<0.7,>=0.5.7 (from langchain-community)\n",
            "  Downloading dataclasses_json-0.6.7-py3-none-any.whl.metadata (25 kB)\n",
            "Collecting pydantic-settings<3.0.0,>=2.4.0 (from langchain-community)\n",
            "  Downloading pydantic_settings-2.9.1-py3-none-any.whl.metadata (3.8 kB)\n",
            "Requirement already satisfied: langsmith<0.4,>=0.1.125 in /usr/local/lib/python3.11/dist-packages (from langchain-community) (0.3.31)\n",
            "Collecting httpx-sse<1.0.0,>=0.4.0 (from langchain-community)\n",
            "  Downloading httpx_sse-0.4.0-py3-none-any.whl.metadata (9.0 kB)\n",
            "Requirement already satisfied: numpy>=1.26.2 in /usr/local/lib/python3.11/dist-packages (from langchain-community) (2.0.2)\n",
            "Requirement already satisfied: aiohappyeyeballs>=2.3.0 in /usr/local/lib/python3.11/dist-packages (from aiohttp<4.0.0,>=3.8.3->langchain-community) (2.6.1)\n",
            "Requirement already satisfied: aiosignal>=1.1.2 in /usr/local/lib/python3.11/dist-packages (from aiohttp<4.0.0,>=3.8.3->langchain-community) (1.3.2)\n",
            "Requirement already satisfied: attrs>=17.3.0 in /usr/local/lib/python3.11/dist-packages (from aiohttp<4.0.0,>=3.8.3->langchain-community) (25.3.0)\n",
            "Requirement already satisfied: frozenlist>=1.1.1 in /usr/local/lib/python3.11/dist-packages (from aiohttp<4.0.0,>=3.8.3->langchain-community) (1.5.0)\n",
            "Requirement already satisfied: multidict<7.0,>=4.5 in /usr/local/lib/python3.11/dist-packages (from aiohttp<4.0.0,>=3.8.3->langchain-community) (6.4.3)\n",
            "Requirement already satisfied: propcache>=0.2.0 in /usr/local/lib/python3.11/dist-packages (from aiohttp<4.0.0,>=3.8.3->langchain-community) (0.3.1)\n",
            "Requirement already satisfied: yarl<2.0,>=1.17.0 in /usr/local/lib/python3.11/dist-packages (from aiohttp<4.0.0,>=3.8.3->langchain-community) (1.19.0)\n",
            "Collecting marshmallow<4.0.0,>=3.18.0 (from dataclasses-json<0.7,>=0.5.7->langchain-community)\n",
            "  Downloading marshmallow-3.26.1-py3-none-any.whl.metadata (7.3 kB)\n",
            "Collecting typing-inspect<1,>=0.4.0 (from dataclasses-json<0.7,>=0.5.7->langchain-community)\n",
            "  Downloading typing_inspect-0.9.0-py3-none-any.whl.metadata (1.5 kB)\n",
            "Requirement already satisfied: langchain-text-splitters<1.0.0,>=0.3.8 in /usr/local/lib/python3.11/dist-packages (from langchain<1.0.0,>=0.3.24->langchain-community) (0.3.8)\n",
            "Requirement already satisfied: pydantic<3.0.0,>=2.7.4 in /usr/local/lib/python3.11/dist-packages (from langchain<1.0.0,>=0.3.24->langchain-community) (2.11.3)\n",
            "Requirement already satisfied: jsonpatch<2.0,>=1.33 in /usr/local/lib/python3.11/dist-packages (from langchain-core<1.0.0,>=0.3.55->langchain-community) (1.33)\n",
            "Requirement already satisfied: packaging<25,>=23.2 in /usr/local/lib/python3.11/dist-packages (from langchain-core<1.0.0,>=0.3.55->langchain-community) (24.2)\n",
            "Requirement already satisfied: typing-extensions>=4.7 in /usr/local/lib/python3.11/dist-packages (from langchain-core<1.0.0,>=0.3.55->langchain-community) (4.13.2)\n",
            "Requirement already satisfied: httpx<1,>=0.23.0 in /usr/local/lib/python3.11/dist-packages (from langsmith<0.4,>=0.1.125->langchain-community) (0.28.1)\n",
            "Requirement already satisfied: orjson<4.0.0,>=3.9.14 in /usr/local/lib/python3.11/dist-packages (from langsmith<0.4,>=0.1.125->langchain-community) (3.10.16)\n",
            "Requirement already satisfied: requests-toolbelt<2.0.0,>=1.0.0 in /usr/local/lib/python3.11/dist-packages (from langsmith<0.4,>=0.1.125->langchain-community) (1.0.0)\n",
            "Requirement already satisfied: zstandard<0.24.0,>=0.23.0 in /usr/local/lib/python3.11/dist-packages (from langsmith<0.4,>=0.1.125->langchain-community) (0.23.0)\n",
            "Collecting python-dotenv>=0.21.0 (from pydantic-settings<3.0.0,>=2.4.0->langchain-community)\n",
            "  Downloading python_dotenv-1.1.0-py3-none-any.whl.metadata (24 kB)\n",
            "Requirement already satisfied: typing-inspection>=0.4.0 in /usr/local/lib/python3.11/dist-packages (from pydantic-settings<3.0.0,>=2.4.0->langchain-community) (0.4.0)\n",
            "Requirement already satisfied: charset-normalizer<4,>=2 in /usr/local/lib/python3.11/dist-packages (from requests<3,>=2->langchain-community) (3.4.1)\n",
            "Requirement already satisfied: idna<4,>=2.5 in /usr/local/lib/python3.11/dist-packages (from requests<3,>=2->langchain-community) (3.10)\n",
            "Requirement already satisfied: urllib3<3,>=1.21.1 in /usr/local/lib/python3.11/dist-packages (from requests<3,>=2->langchain-community) (2.3.0)\n",
            "Requirement already satisfied: certifi>=2017.4.17 in /usr/local/lib/python3.11/dist-packages (from requests<3,>=2->langchain-community) (2025.1.31)\n",
            "Requirement already satisfied: greenlet>=1 in /usr/local/lib/python3.11/dist-packages (from SQLAlchemy<3,>=1.4->langchain-community) (3.2.0)\n",
            "Requirement already satisfied: anyio in /usr/local/lib/python3.11/dist-packages (from httpx<1,>=0.23.0->langsmith<0.4,>=0.1.125->langchain-community) (4.9.0)\n",
            "Requirement already satisfied: httpcore==1.* in /usr/local/lib/python3.11/dist-packages (from httpx<1,>=0.23.0->langsmith<0.4,>=0.1.125->langchain-community) (1.0.8)\n",
            "Requirement already satisfied: h11<0.15,>=0.13 in /usr/local/lib/python3.11/dist-packages (from httpcore==1.*->httpx<1,>=0.23.0->langsmith<0.4,>=0.1.125->langchain-community) (0.14.0)\n",
            "Requirement already satisfied: jsonpointer>=1.9 in /usr/local/lib/python3.11/dist-packages (from jsonpatch<2.0,>=1.33->langchain-core<1.0.0,>=0.3.55->langchain-community) (3.0.0)\n",
            "Requirement already satisfied: annotated-types>=0.6.0 in /usr/local/lib/python3.11/dist-packages (from pydantic<3.0.0,>=2.7.4->langchain<1.0.0,>=0.3.24->langchain-community) (0.7.0)\n",
            "Requirement already satisfied: pydantic-core==2.33.1 in /usr/local/lib/python3.11/dist-packages (from pydantic<3.0.0,>=2.7.4->langchain<1.0.0,>=0.3.24->langchain-community) (2.33.1)\n",
            "Collecting mypy-extensions>=0.3.0 (from typing-inspect<1,>=0.4.0->dataclasses-json<0.7,>=0.5.7->langchain-community)\n",
            "  Downloading mypy_extensions-1.1.0-py3-none-any.whl.metadata (1.1 kB)\n",
            "Requirement already satisfied: sniffio>=1.1 in /usr/local/lib/python3.11/dist-packages (from anyio->httpx<1,>=0.23.0->langsmith<0.4,>=0.1.125->langchain-community) (1.3.1)\n",
            "Downloading langchain_community-0.3.22-py3-none-any.whl (2.5 MB)\n",
            "\u001b[2K   \u001b[90m━━━━━━━━━━━━━━━━━━━━━━━━━━━━━━━━━━━━━━━━\u001b[0m \u001b[32m2.5/2.5 MB\u001b[0m \u001b[31m30.8 MB/s\u001b[0m eta \u001b[36m0:00:00\u001b[0m\n",
            "\u001b[?25hDownloading dataclasses_json-0.6.7-py3-none-any.whl (28 kB)\n",
            "Downloading httpx_sse-0.4.0-py3-none-any.whl (7.8 kB)\n",
            "Downloading langchain-0.3.24-py3-none-any.whl (1.0 MB)\n",
            "\u001b[2K   \u001b[90m━━━━━━━━━━━━━━━━━━━━━━━━━━━━━━━━━━━━━━━━\u001b[0m \u001b[32m1.0/1.0 MB\u001b[0m \u001b[31m22.0 MB/s\u001b[0m eta \u001b[36m0:00:00\u001b[0m\n",
            "\u001b[?25hDownloading langchain_core-0.3.55-py3-none-any.whl (434 kB)\n",
            "\u001b[2K   \u001b[90m━━━━━━━━━━━━━━━━━━━━━━━━━━━━━━━━━━━━━━━━\u001b[0m \u001b[32m434.1/434.1 kB\u001b[0m \u001b[31m20.3 MB/s\u001b[0m eta \u001b[36m0:00:00\u001b[0m\n",
            "\u001b[?25hDownloading pydantic_settings-2.9.1-py3-none-any.whl (44 kB)\n",
            "\u001b[2K   \u001b[90m━━━━━━━━━━━━━━━━━━━━━━━━━━━━━━━━━━━━━━━━\u001b[0m \u001b[32m44.4/44.4 kB\u001b[0m \u001b[31m3.0 MB/s\u001b[0m eta \u001b[36m0:00:00\u001b[0m\n",
            "\u001b[?25hDownloading marshmallow-3.26.1-py3-none-any.whl (50 kB)\n",
            "\u001b[2K   \u001b[90m━━━━━━━━━━━━━━━━━━━━━━━━━━━━━━━━━━━━━━━━\u001b[0m \u001b[32m50.9/50.9 kB\u001b[0m \u001b[31m3.6 MB/s\u001b[0m eta \u001b[36m0:00:00\u001b[0m\n",
            "\u001b[?25hDownloading python_dotenv-1.1.0-py3-none-any.whl (20 kB)\n",
            "Downloading typing_inspect-0.9.0-py3-none-any.whl (8.8 kB)\n",
            "Downloading mypy_extensions-1.1.0-py3-none-any.whl (5.0 kB)\n",
            "Installing collected packages: python-dotenv, mypy-extensions, marshmallow, httpx-sse, typing-inspect, pydantic-settings, dataclasses-json, langchain-core, langchain, langchain-community\n",
            "  Attempting uninstall: langchain-core\n",
            "    Found existing installation: langchain-core 0.3.52\n",
            "    Uninstalling langchain-core-0.3.52:\n",
            "      Successfully uninstalled langchain-core-0.3.52\n",
            "  Attempting uninstall: langchain\n",
            "    Found existing installation: langchain 0.3.23\n",
            "    Uninstalling langchain-0.3.23:\n",
            "      Successfully uninstalled langchain-0.3.23\n",
            "Successfully installed dataclasses-json-0.6.7 httpx-sse-0.4.0 langchain-0.3.24 langchain-community-0.3.22 langchain-core-0.3.55 marshmallow-3.26.1 mypy-extensions-1.1.0 pydantic-settings-2.9.1 python-dotenv-1.1.0 typing-inspect-0.9.0\n"
          ]
        }
      ],
      "source": [
        "!pip install -U langchain-community"
      ]
    },
    {
      "cell_type": "markdown",
      "metadata": {
        "id": "XQQN-L2J4Rpq"
      },
      "source": [
        "Import the packages you'll need:"
      ]
    },
    {
      "cell_type": "code",
      "execution_count": null,
      "metadata": {
        "execution": {
          "iopub.execute_input": "2025-04-20T19:46:41.795276Z",
          "iopub.status.busy": "2025-04-20T19:46:41.794931Z",
          "iopub.status.idle": "2025-04-20T19:46:41.821096Z",
          "shell.execute_reply": "2025-04-20T19:46:41.819763Z",
          "shell.execute_reply.started": "2025-04-20T19:46:41.795244Z"
        },
        "id": "V4qBIihE4Rpq",
        "trusted": true
      },
      "outputs": [],
      "source": [
        "# LangChain components to use\n",
        "from langchain.vectorstores.cassandra import Cassandra\n",
        "from langchain.indexes.vectorstore import VectorStoreIndexWrapper\n",
        "from langchain.llms import OpenAI\n",
        "from langchain.embeddings import OpenAIEmbeddings\n",
        "\n",
        "# Support for dataset retrieval with Hugging Face\n",
        "from datasets import load_dataset\n",
        "\n",
        "# With CassIO, the engine powering the Astra DB integration in LangChain,\n",
        "# you will also initialize the DB connection:\n",
        "import cassio"
      ]
    },
    {
      "cell_type": "code",
      "execution_count": null,
      "metadata": {
        "colab": {
          "base_uri": "https://localhost:8080/"
        },
        "id": "WIs76OPQ6JyD",
        "outputId": "19e1d8d1-a8a1-47c6-e6e3-46b02e89386d"
      },
      "outputs": [
        {
          "name": "stdout",
          "output_type": "stream",
          "text": [
            "Collecting PyPDF2\n",
            "  Downloading pypdf2-3.0.1-py3-none-any.whl.metadata (6.8 kB)\n",
            "Downloading pypdf2-3.0.1-py3-none-any.whl (232 kB)\n",
            "\u001b[2K   \u001b[90m━━━━━━━━━━━━━━━━━━━━━━━━━━━━━━━━━━━━━━━━\u001b[0m \u001b[32m232.6/232.6 kB\u001b[0m \u001b[31m4.5 MB/s\u001b[0m eta \u001b[36m0:00:00\u001b[0m\n",
            "\u001b[?25hInstalling collected packages: PyPDF2\n",
            "Successfully installed PyPDF2-3.0.1\n"
          ]
        }
      ],
      "source": [
        "!pip install PyPDF2"
      ]
    },
    {
      "cell_type": "code",
      "execution_count": null,
      "metadata": {
        "id": "1itBNL1v6N9-"
      },
      "outputs": [],
      "source": [
        "from PyPDF2 import PdfReader"
      ]
    },
    {
      "cell_type": "markdown",
      "metadata": {
        "id": "Vu2UauiC4Rpr"
      },
      "source": [
        "### Setup"
      ]
    },
    {
      "cell_type": "code",
      "execution_count": null,
      "metadata": {
        "id": "eqpM6I854Rpr"
      },
      "outputs": [],
      "source": [
        "ASTRA_DB_APPLICATION_TOKEN = \"your_AstraDB_app_token\" # enter the \"AstraCS:...\" string found in in your Token JSON file\n",
        "ASTRA_DB_ID = \"your_AstraDB_ID\" # enter your Database ID"
      ]
    },
    {
      "cell_type": "markdown",
      "metadata": {
        "id": "Q1cmD5EF4Rpr"
      },
      "source": [
        "#### Provide your secrets:\n",
        "\n",
        "Replace the following with your Astra DB connection details and your OpenAI API key:"
      ]
    },
    {
      "cell_type": "code",
      "execution_count": null,
      "metadata": {
        "id": "waVKJW-n6jqJ"
      },
      "outputs": [],
      "source": [
        "# provide the path of  pdf file/files.\n",
        "pdfreader = PdfReader('event-1.pdf')"
      ]
    },
    {
      "cell_type": "code",
      "execution_count": null,
      "metadata": {
        "id": "42BKuFRO6meP"
      },
      "outputs": [],
      "source": [
        "from typing_extensions import Concatenate\n",
        "# read text from pdf\n",
        "raw_text = ''\n",
        "for i, page in enumerate(pdfreader.pages):\n",
        "    content = page.extract_text()\n",
        "    if content:\n",
        "        raw_text += content"
      ]
    },
    {
      "cell_type": "code",
      "execution_count": null,
      "metadata": {
        "colab": {
          "base_uri": "https://localhost:8080/",
          "height": 329
        },
        "id": "DFrDtei0ANXX",
        "outputId": "379edaf5-ba34-49ae-ce09-c90b50217f19"
      },
      "outputs": [
        {
          "ename": "MessageError",
          "evalue": "Error: credential propagation was unsuccessful",
          "output_type": "error",
          "traceback": [
            "\u001b[0;31m---------------------------------------------------------------------------\u001b[0m",
            "\u001b[0;31mMessageError\u001b[0m                              Traceback (most recent call last)",
            "\u001b[0;32m<ipython-input-10-d5df0069828e>\u001b[0m in \u001b[0;36m<cell line: 0>\u001b[0;34m()\u001b[0m\n\u001b[1;32m      1\u001b[0m \u001b[0;32mfrom\u001b[0m \u001b[0mgoogle\u001b[0m\u001b[0;34m.\u001b[0m\u001b[0mcolab\u001b[0m \u001b[0;32mimport\u001b[0m \u001b[0mdrive\u001b[0m\u001b[0;34m\u001b[0m\u001b[0;34m\u001b[0m\u001b[0m\n\u001b[0;32m----> 2\u001b[0;31m \u001b[0mdrive\u001b[0m\u001b[0;34m.\u001b[0m\u001b[0mmount\u001b[0m\u001b[0;34m(\u001b[0m\u001b[0;34m'/content/drive'\u001b[0m\u001b[0;34m)\u001b[0m\u001b[0;34m\u001b[0m\u001b[0;34m\u001b[0m\u001b[0m\n\u001b[0m",
            "\u001b[0;32m/usr/local/lib/python3.11/dist-packages/google/colab/drive.py\u001b[0m in \u001b[0;36mmount\u001b[0;34m(mountpoint, force_remount, timeout_ms, readonly)\u001b[0m\n\u001b[1;32m     98\u001b[0m \u001b[0;32mdef\u001b[0m \u001b[0mmount\u001b[0m\u001b[0;34m(\u001b[0m\u001b[0mmountpoint\u001b[0m\u001b[0;34m,\u001b[0m \u001b[0mforce_remount\u001b[0m\u001b[0;34m=\u001b[0m\u001b[0;32mFalse\u001b[0m\u001b[0;34m,\u001b[0m \u001b[0mtimeout_ms\u001b[0m\u001b[0;34m=\u001b[0m\u001b[0;36m120000\u001b[0m\u001b[0;34m,\u001b[0m \u001b[0mreadonly\u001b[0m\u001b[0;34m=\u001b[0m\u001b[0;32mFalse\u001b[0m\u001b[0;34m)\u001b[0m\u001b[0;34m:\u001b[0m\u001b[0;34m\u001b[0m\u001b[0;34m\u001b[0m\u001b[0m\n\u001b[1;32m     99\u001b[0m   \u001b[0;34m\"\"\"Mount your Google Drive at the specified mountpoint path.\"\"\"\u001b[0m\u001b[0;34m\u001b[0m\u001b[0;34m\u001b[0m\u001b[0m\n\u001b[0;32m--> 100\u001b[0;31m   return _mount(\n\u001b[0m\u001b[1;32m    101\u001b[0m       \u001b[0mmountpoint\u001b[0m\u001b[0;34m,\u001b[0m\u001b[0;34m\u001b[0m\u001b[0;34m\u001b[0m\u001b[0m\n\u001b[1;32m    102\u001b[0m       \u001b[0mforce_remount\u001b[0m\u001b[0;34m=\u001b[0m\u001b[0mforce_remount\u001b[0m\u001b[0;34m,\u001b[0m\u001b[0;34m\u001b[0m\u001b[0;34m\u001b[0m\u001b[0m\n",
            "\u001b[0;32m/usr/local/lib/python3.11/dist-packages/google/colab/drive.py\u001b[0m in \u001b[0;36m_mount\u001b[0;34m(mountpoint, force_remount, timeout_ms, ephemeral, readonly)\u001b[0m\n\u001b[1;32m    135\u001b[0m   )\n\u001b[1;32m    136\u001b[0m   \u001b[0;32mif\u001b[0m \u001b[0mephemeral\u001b[0m\u001b[0;34m:\u001b[0m\u001b[0;34m\u001b[0m\u001b[0;34m\u001b[0m\u001b[0m\n\u001b[0;32m--> 137\u001b[0;31m     _message.blocking_request(\n\u001b[0m\u001b[1;32m    138\u001b[0m         \u001b[0;34m'request_auth'\u001b[0m\u001b[0;34m,\u001b[0m\u001b[0;34m\u001b[0m\u001b[0;34m\u001b[0m\u001b[0m\n\u001b[1;32m    139\u001b[0m         \u001b[0mrequest\u001b[0m\u001b[0;34m=\u001b[0m\u001b[0;34m{\u001b[0m\u001b[0;34m'authType'\u001b[0m\u001b[0;34m:\u001b[0m \u001b[0;34m'dfs_ephemeral'\u001b[0m\u001b[0;34m}\u001b[0m\u001b[0;34m,\u001b[0m\u001b[0;34m\u001b[0m\u001b[0;34m\u001b[0m\u001b[0m\n",
            "\u001b[0;32m/usr/local/lib/python3.11/dist-packages/google/colab/_message.py\u001b[0m in \u001b[0;36mblocking_request\u001b[0;34m(request_type, request, timeout_sec, parent)\u001b[0m\n\u001b[1;32m    174\u001b[0m       \u001b[0mrequest_type\u001b[0m\u001b[0;34m,\u001b[0m \u001b[0mrequest\u001b[0m\u001b[0;34m,\u001b[0m \u001b[0mparent\u001b[0m\u001b[0;34m=\u001b[0m\u001b[0mparent\u001b[0m\u001b[0;34m,\u001b[0m \u001b[0mexpect_reply\u001b[0m\u001b[0;34m=\u001b[0m\u001b[0;32mTrue\u001b[0m\u001b[0;34m\u001b[0m\u001b[0;34m\u001b[0m\u001b[0m\n\u001b[1;32m    175\u001b[0m   )\n\u001b[0;32m--> 176\u001b[0;31m   \u001b[0;32mreturn\u001b[0m \u001b[0mread_reply_from_input\u001b[0m\u001b[0;34m(\u001b[0m\u001b[0mrequest_id\u001b[0m\u001b[0;34m,\u001b[0m \u001b[0mtimeout_sec\u001b[0m\u001b[0;34m)\u001b[0m\u001b[0;34m\u001b[0m\u001b[0;34m\u001b[0m\u001b[0m\n\u001b[0m",
            "\u001b[0;32m/usr/local/lib/python3.11/dist-packages/google/colab/_message.py\u001b[0m in \u001b[0;36mread_reply_from_input\u001b[0;34m(message_id, timeout_sec)\u001b[0m\n\u001b[1;32m    101\u001b[0m     ):\n\u001b[1;32m    102\u001b[0m       \u001b[0;32mif\u001b[0m \u001b[0;34m'error'\u001b[0m \u001b[0;32min\u001b[0m \u001b[0mreply\u001b[0m\u001b[0;34m:\u001b[0m\u001b[0;34m\u001b[0m\u001b[0;34m\u001b[0m\u001b[0m\n\u001b[0;32m--> 103\u001b[0;31m         \u001b[0;32mraise\u001b[0m \u001b[0mMessageError\u001b[0m\u001b[0;34m(\u001b[0m\u001b[0mreply\u001b[0m\u001b[0;34m[\u001b[0m\u001b[0;34m'error'\u001b[0m\u001b[0;34m]\u001b[0m\u001b[0;34m)\u001b[0m\u001b[0;34m\u001b[0m\u001b[0;34m\u001b[0m\u001b[0m\n\u001b[0m\u001b[1;32m    104\u001b[0m       \u001b[0;32mreturn\u001b[0m \u001b[0mreply\u001b[0m\u001b[0;34m.\u001b[0m\u001b[0mget\u001b[0m\u001b[0;34m(\u001b[0m\u001b[0;34m'data'\u001b[0m\u001b[0;34m,\u001b[0m \u001b[0;32mNone\u001b[0m\u001b[0;34m)\u001b[0m\u001b[0;34m\u001b[0m\u001b[0;34m\u001b[0m\u001b[0m\n\u001b[1;32m    105\u001b[0m \u001b[0;34m\u001b[0m\u001b[0m\n",
            "\u001b[0;31mMessageError\u001b[0m: Error: credential propagation was unsuccessful"
          ]
        }
      ],
      "source": [
        "from google.colab import drive\n",
        "drive.mount('/content/drive')"
      ]
    },
    {
      "cell_type": "code",
      "execution_count": null,
      "metadata": {
        "colab": {
          "base_uri": "https://localhost:8080/",
          "height": 214
        },
        "id": "vR41Iq-4ZHnG",
        "outputId": "0a60e039-56cc-40e9-aa5f-a12a3a3f5466"
      },
      "outputs": [
        {
          "data": {
            "application/vnd.google.colaboratory.intrinsic+json": {
              "type": "string"
            },
            "text/plain": [
              "'To view complete details for this event, click here to view the announcement\\nCHOUFLI CODE\\nThe \\nChoufliCode Hackathon 2025\\n, organized by the IEEE Student Branch Computer Society on\\nfebruary 22nd, blended intense coding challenges with opportunities for soft skill\\ndevelopment. Participants tackled real-world problems through teamwork and innovation, while\\ncoffee breaks featured games like bowling, baby foot, and Pool. These activities fostered\\ncamaraderie, strategic thinking, and spontaneous collaboration, enhancing communication and\\nstress management in a relaxed setting. The event not only celebrated technical excellence\\nat its Award Ceremony but also emphasized holistic growth, merging programming rigor with\\nplayful networking. A heartfelt thank you to all participants, mentors, and sponsors for\\nmaking this dynamic fusion of tech and teamwork a memorable success! \\x00\\x00\\x00                  \\n    \\n*********************************************************************************************************************************************************\\n                               \\n     \\nDate and Time\\nDate: \\n22 Feb 2025\\nTime: \\n08:00 AM WAT\\n \\nto \\n05:00 PM WAT\\n \\nAdd Event to Calendar\\n \\niCal\\n \\n \\nGoogle Calendar\\nLocation\\nCentre culturel et sportif pour les jeunes à Ben Arous\\nBen Arous, Ben Arous\\nTunisiaHosts\\nHigher Inst of Applied & Tech Sci of Mateur, C16\\nContact Event Host\\nRegistration\\nStarts \\n16 February 2025 01:00 PM WAT\\nEnds \\n21 February 2025 09:00 AM WAT\\nNo Admission Charge\\n'"
            ]
          },
          "execution_count": 11,
          "metadata": {},
          "output_type": "execute_result"
        }
      ],
      "source": [
        "raw_text"
      ]
    },
    {
      "cell_type": "markdown",
      "metadata": {
        "id": "5S0GgIQs4Rps"
      },
      "source": [
        "Initialize the connection to your database:\n",
        "\n",
        "_(do not worry if you see a few warnings, it's just that the drivers are chatty about negotiating protocol versions with the DB.)_"
      ]
    },
    {
      "cell_type": "code",
      "execution_count": null,
      "metadata": {
        "colab": {
          "base_uri": "https://localhost:8080/",
          "height": 311
        },
        "id": "zFBR5HnZSPmK",
        "outputId": "75d2f2a9-f946-4d17-d40b-b93787ab9c96"
      },
      "outputs": [
        {
          "ename": "ValueError",
          "evalue": "Generic error when fetching the URL to the secure-bundle.",
          "output_type": "error",
          "traceback": [
            "\u001b[0;31m---------------------------------------------------------------------------\u001b[0m",
            "\u001b[0;31mValueError\u001b[0m                                Traceback (most recent call last)",
            "\u001b[0;32m<ipython-input-12-4839ead46fa2>\u001b[0m in \u001b[0;36m<cell line: 0>\u001b[0;34m()\u001b[0m\n\u001b[0;32m----> 1\u001b[0;31m \u001b[0mcassio\u001b[0m\u001b[0;34m.\u001b[0m\u001b[0minit\u001b[0m\u001b[0;34m(\u001b[0m\u001b[0mtoken\u001b[0m\u001b[0;34m=\u001b[0m\u001b[0mASTRA_DB_APPLICATION_TOKEN\u001b[0m\u001b[0;34m,\u001b[0m \u001b[0mdatabase_id\u001b[0m\u001b[0;34m=\u001b[0m\u001b[0mASTRA_DB_ID\u001b[0m\u001b[0;34m)\u001b[0m\u001b[0;34m\u001b[0m\u001b[0;34m\u001b[0m\u001b[0m\n\u001b[0m",
            "\u001b[0;32m/usr/local/lib/python3.11/dist-packages/cassio/config/__init__.py\u001b[0m in \u001b[0;36minit\u001b[0;34m(auto, session, secure_connect_bundle, init_string, token, database_id, keyspace, contact_points, username, password, cluster_kwargs, tempfile_basedir, bundle_url_template, cloud_kwargs)\u001b[0m\n\u001b[1;32m    360\u001b[0m     \"\"\"\n\u001b[1;32m    361\u001b[0m     \u001b[0;32mglobal\u001b[0m \u001b[0mdefault_session\u001b[0m\u001b[0;34m,\u001b[0m \u001b[0mdefault_keyspace\u001b[0m\u001b[0;34m\u001b[0m\u001b[0;34m\u001b[0m\u001b[0m\n\u001b[0;32m--> 362\u001b[0;31m     default_session, default_keyspace = get_session_and_keyspace(\n\u001b[0m\u001b[1;32m    363\u001b[0m         \u001b[0mauto\u001b[0m\u001b[0;34m=\u001b[0m\u001b[0mauto\u001b[0m\u001b[0;34m,\u001b[0m\u001b[0;34m\u001b[0m\u001b[0;34m\u001b[0m\u001b[0m\n\u001b[1;32m    364\u001b[0m         \u001b[0msession\u001b[0m\u001b[0;34m=\u001b[0m\u001b[0msession\u001b[0m\u001b[0;34m,\u001b[0m\u001b[0;34m\u001b[0m\u001b[0;34m\u001b[0m\u001b[0m\n",
            "\u001b[0;32m/usr/local/lib/python3.11/dist-packages/cassio/config/__init__.py\u001b[0m in \u001b[0;36mget_session_and_keyspace\u001b[0;34m(auto, session, secure_connect_bundle, init_string, token, database_id, keyspace, contact_points, username, password, cluster_kwargs, tempfile_basedir, bundle_url_template, cloud_kwargs)\u001b[0m\n\u001b[1;32m    199\u001b[0m                         \u001b[0mtemp_dir\u001b[0m \u001b[0;32mor\u001b[0m \u001b[0;34m\"\"\u001b[0m\u001b[0;34m,\u001b[0m \u001b[0mDOWNLOADED_BUNDLE_FILE_NAME\u001b[0m\u001b[0;34m\u001b[0m\u001b[0;34m\u001b[0m\u001b[0m\n\u001b[1;32m    200\u001b[0m                     )\n\u001b[0;32m--> 201\u001b[0;31m                     download_astra_bundle_url(\n\u001b[0m\u001b[1;32m    202\u001b[0m                         \u001b[0mdatabase_id\u001b[0m\u001b[0;34m,\u001b[0m\u001b[0;34m\u001b[0m\u001b[0;34m\u001b[0m\u001b[0m\n\u001b[1;32m    203\u001b[0m                         \u001b[0mchosen_token\u001b[0m\u001b[0;34m,\u001b[0m\u001b[0;34m\u001b[0m\u001b[0;34m\u001b[0m\u001b[0m\n",
            "\u001b[0;32m/usr/local/lib/python3.11/dist-packages/cassio/config/bundle_download.py\u001b[0m in \u001b[0;36mdownload_astra_bundle_url\u001b[0;34m(database_id, token, out_file_path, bundle_url_template)\u001b[0m\n\u001b[1;32m     70\u001b[0m     \u001b[0mObtain\u001b[0m \u001b[0mthe\u001b[0m \u001b[0msecure\u001b[0m\u001b[0;34m-\u001b[0m\u001b[0mconnect\u001b[0m\u001b[0;34m-\u001b[0m\u001b[0mbundle\u001b[0m \u001b[0;32mand\u001b[0m \u001b[0msave\u001b[0m \u001b[0mit\u001b[0m \u001b[0mto\u001b[0m \u001b[0ma\u001b[0m \u001b[0mspecified\u001b[0m \u001b[0mfile\u001b[0m\u001b[0;34m.\u001b[0m\u001b[0;34m\u001b[0m\u001b[0;34m\u001b[0m\u001b[0m\n\u001b[1;32m     71\u001b[0m     \"\"\"\n\u001b[0;32m---> 72\u001b[0;31m     bundle_url = get_astra_bundle_url(\n\u001b[0m\u001b[1;32m     73\u001b[0m         \u001b[0mdatabase_id\u001b[0m\u001b[0;34m=\u001b[0m\u001b[0mdatabase_id\u001b[0m\u001b[0;34m,\u001b[0m \u001b[0mtoken\u001b[0m\u001b[0;34m=\u001b[0m\u001b[0mtoken\u001b[0m\u001b[0;34m,\u001b[0m \u001b[0mbundle_url_template\u001b[0m\u001b[0;34m=\u001b[0m\u001b[0mbundle_url_template\u001b[0m\u001b[0;34m\u001b[0m\u001b[0;34m\u001b[0m\u001b[0m\n\u001b[1;32m     74\u001b[0m     )\n",
            "\u001b[0;32m/usr/local/lib/python3.11/dist-packages/cassio/config/bundle_download.py\u001b[0m in \u001b[0;36mget_astra_bundle_url\u001b[0;34m(database_id, token, bundle_url_template)\u001b[0m\n\u001b[1;32m     49\u001b[0m                 \u001b[0;32mraise\u001b[0m \u001b[0mValueError\u001b[0m\u001b[0;34m(\u001b[0m\u001b[0;34m\"Invalid or insufficient token.\"\u001b[0m\u001b[0;34m)\u001b[0m\u001b[0;34m\u001b[0m\u001b[0;34m\u001b[0m\u001b[0m\n\u001b[1;32m     50\u001b[0m             \u001b[0;32melse\u001b[0m\u001b[0;34m:\u001b[0m\u001b[0;34m\u001b[0m\u001b[0;34m\u001b[0m\u001b[0m\n\u001b[0;32m---> 51\u001b[0;31m                 raise ValueError(\n\u001b[0m\u001b[1;32m     52\u001b[0m                     \u001b[0;34m\"Generic error when fetching the URL to the secure-bundle.\"\u001b[0m\u001b[0;34m\u001b[0m\u001b[0;34m\u001b[0m\u001b[0m\n\u001b[1;32m     53\u001b[0m                 )\n",
            "\u001b[0;31mValueError\u001b[0m: Generic error when fetching the URL to the secure-bundle."
          ]
        }
      ],
      "source": [
        "cassio.init(token=ASTRA_DB_APPLICATION_TOKEN, database_id=ASTRA_DB_ID)"
      ]
    },
    {
      "cell_type": "markdown",
      "metadata": {
        "id": "ex7NxZYb4Rps"
      },
      "source": [
        "Create the LangChain embedding and LLM objects for later usage:"
      ]
    },
    {
      "cell_type": "code",
      "execution_count": null,
      "metadata": {
        "id": "TavS0AK2SLrL"
      },
      "outputs": [],
      "source": [
        "import google.generativeai as genai"
      ]
    },
    {
      "cell_type": "markdown",
      "metadata": {
        "id": "9HMMx5Pm4Rpt"
      },
      "source": [
        "Create your LangChain vector store ... backed by Astra DB!"
      ]
    },
    {
      "cell_type": "code",
      "execution_count": null,
      "metadata": {
        "colab": {
          "base_uri": "https://localhost:8080/",
          "height": 382
        },
        "id": "bg9VAk4USQvU",
        "outputId": "b71ec7dc-0f54-4229-8db8-4d997770da49"
      },
      "outputs": [
        {
          "ename": "ValueError",
          "evalue": "DB session not set.",
          "output_type": "error",
          "traceback": [
            "\u001b[0;31m---------------------------------------------------------------------------\u001b[0m",
            "\u001b[0;31mValueError\u001b[0m                                Traceback (most recent call last)",
            "\u001b[0;32m<ipython-input-14-43456336a0cf>\u001b[0m in \u001b[0;36m<cell line: 0>\u001b[0;34m()\u001b[0m\n\u001b[1;32m     24\u001b[0m \u001b[0;34m\u001b[0m\u001b[0m\n\u001b[1;32m     25\u001b[0m \u001b[0;31m# Step 5: Connect to Cassandra/Astra DB\u001b[0m\u001b[0;34m\u001b[0m\u001b[0;34m\u001b[0m\u001b[0m\n\u001b[0;32m---> 26\u001b[0;31m astra_vector_store = Cassandra(\n\u001b[0m\u001b[1;32m     27\u001b[0m     \u001b[0membedding\u001b[0m\u001b[0;34m=\u001b[0m\u001b[0mgemini_embeddings\u001b[0m\u001b[0;34m,\u001b[0m  \u001b[0;31m# Using free Gemini embeddings\u001b[0m\u001b[0;34m\u001b[0m\u001b[0;34m\u001b[0m\u001b[0m\n\u001b[1;32m     28\u001b[0m     \u001b[0mtable_name\u001b[0m\u001b[0;34m=\u001b[0m\u001b[0;34m\"qa_mini_demo\"\u001b[0m\u001b[0;34m,\u001b[0m\u001b[0;34m\u001b[0m\u001b[0;34m\u001b[0m\u001b[0m\n",
            "\u001b[0;32m/usr/local/lib/python3.11/dist-packages/langchain_community/vectorstores/cassandra.py\u001b[0m in \u001b[0;36m__init__\u001b[0;34m(self, embedding, session, keyspace, table_name, ttl_seconds, body_index_options, setup_mode, metadata_indexing)\u001b[0m\n\u001b[1;32m    146\u001b[0m             \u001b[0membedding_dimension\u001b[0m \u001b[0;34m=\u001b[0m \u001b[0mself\u001b[0m\u001b[0;34m.\u001b[0m\u001b[0m_get_embedding_dimension\u001b[0m\u001b[0;34m(\u001b[0m\u001b[0;34m)\u001b[0m\u001b[0;34m\u001b[0m\u001b[0;34m\u001b[0m\u001b[0m\n\u001b[1;32m    147\u001b[0m \u001b[0;34m\u001b[0m\u001b[0m\n\u001b[0;32m--> 148\u001b[0;31m         self.table = MetadataVectorCassandraTable(\n\u001b[0m\u001b[1;32m    149\u001b[0m             \u001b[0msession\u001b[0m\u001b[0;34m=\u001b[0m\u001b[0msession\u001b[0m\u001b[0;34m,\u001b[0m\u001b[0;34m\u001b[0m\u001b[0;34m\u001b[0m\u001b[0m\n\u001b[1;32m    150\u001b[0m             \u001b[0mkeyspace\u001b[0m\u001b[0;34m=\u001b[0m\u001b[0mkeyspace\u001b[0m\u001b[0;34m,\u001b[0m\u001b[0;34m\u001b[0m\u001b[0;34m\u001b[0m\u001b[0m\n",
            "\u001b[0;32m/usr/local/lib/python3.11/dist-packages/cassio/table/mixins/type_normalizer.py\u001b[0m in \u001b[0;36m__init__\u001b[0;34m(self, *pargs, **kwargs)\u001b[0m\n\u001b[1;32m     37\u001b[0m         \u001b[0;32melse\u001b[0m\u001b[0;34m:\u001b[0m\u001b[0;34m\u001b[0m\u001b[0;34m\u001b[0m\u001b[0m\n\u001b[1;32m     38\u001b[0m             \u001b[0mnew_kwargs\u001b[0m \u001b[0;34m=\u001b[0m \u001b[0mkwargs\u001b[0m\u001b[0;34m\u001b[0m\u001b[0;34m\u001b[0m\u001b[0m\n\u001b[0;32m---> 39\u001b[0;31m         \u001b[0msuper\u001b[0m\u001b[0;34m(\u001b[0m\u001b[0;34m)\u001b[0m\u001b[0;34m.\u001b[0m\u001b[0m__init__\u001b[0m\u001b[0;34m(\u001b[0m\u001b[0;34m*\u001b[0m\u001b[0mpargs\u001b[0m\u001b[0;34m,\u001b[0m \u001b[0;34m**\u001b[0m\u001b[0mnew_kwargs\u001b[0m\u001b[0;34m)\u001b[0m\u001b[0;34m\u001b[0m\u001b[0;34m\u001b[0m\u001b[0m\n\u001b[0m",
            "\u001b[0;32m/usr/local/lib/python3.11/dist-packages/cassio/table/mixins/metadata.py\u001b[0m in \u001b[0;36m__init__\u001b[0;34m(self, metadata_indexing, *pargs, **kwargs)\u001b[0m\n\u001b[1;32m     31\u001b[0m             \u001b[0mmetadata_indexing\u001b[0m\u001b[0;34m\u001b[0m\u001b[0;34m\u001b[0m\u001b[0m\n\u001b[1;32m     32\u001b[0m         )\n\u001b[0;32m---> 33\u001b[0;31m         \u001b[0msuper\u001b[0m\u001b[0;34m(\u001b[0m\u001b[0;34m)\u001b[0m\u001b[0;34m.\u001b[0m\u001b[0m__init__\u001b[0m\u001b[0;34m(\u001b[0m\u001b[0;34m*\u001b[0m\u001b[0mpargs\u001b[0m\u001b[0;34m,\u001b[0m \u001b[0;34m**\u001b[0m\u001b[0mkwargs\u001b[0m\u001b[0;34m)\u001b[0m\u001b[0;34m\u001b[0m\u001b[0;34m\u001b[0m\u001b[0m\n\u001b[0m\u001b[1;32m     34\u001b[0m \u001b[0;34m\u001b[0m\u001b[0m\n\u001b[1;32m     35\u001b[0m     \u001b[0;34m@\u001b[0m\u001b[0mstaticmethod\u001b[0m\u001b[0;34m\u001b[0m\u001b[0;34m\u001b[0m\u001b[0m\n",
            "\u001b[0;32m/usr/local/lib/python3.11/dist-packages/cassio/table/mixins/vector.py\u001b[0m in \u001b[0;36m__init__\u001b[0;34m(self, vector_dimension, vector_similarity_function, vector_source_model, *pargs, **kwargs)\u001b[0m\n\u001b[1;32m     37\u001b[0m         \u001b[0;32mif\u001b[0m \u001b[0mvector_source_model\u001b[0m \u001b[0;32mis\u001b[0m \u001b[0;32mnot\u001b[0m \u001b[0;32mNone\u001b[0m\u001b[0;34m:\u001b[0m\u001b[0;34m\u001b[0m\u001b[0;34m\u001b[0m\u001b[0m\n\u001b[1;32m     38\u001b[0m             \u001b[0mself\u001b[0m\u001b[0;34m.\u001b[0m\u001b[0mvector_index_options\u001b[0m\u001b[0;34m.\u001b[0m\u001b[0mappend\u001b[0m\u001b[0;34m(\u001b[0m\u001b[0;34m(\u001b[0m\u001b[0;34m\"source_model\"\u001b[0m\u001b[0;34m,\u001b[0m \u001b[0mvector_source_model\u001b[0m\u001b[0;34m)\u001b[0m\u001b[0;34m)\u001b[0m\u001b[0;34m\u001b[0m\u001b[0;34m\u001b[0m\u001b[0m\n\u001b[0;32m---> 39\u001b[0;31m         \u001b[0msuper\u001b[0m\u001b[0;34m(\u001b[0m\u001b[0;34m)\u001b[0m\u001b[0;34m.\u001b[0m\u001b[0m__init__\u001b[0m\u001b[0;34m(\u001b[0m\u001b[0;34m*\u001b[0m\u001b[0mpargs\u001b[0m\u001b[0;34m,\u001b[0m \u001b[0;34m**\u001b[0m\u001b[0mkwargs\u001b[0m\u001b[0;34m)\u001b[0m\u001b[0;34m\u001b[0m\u001b[0;34m\u001b[0m\u001b[0m\n\u001b[0m\u001b[1;32m     40\u001b[0m \u001b[0;34m\u001b[0m\u001b[0m\n\u001b[1;32m     41\u001b[0m     \u001b[0;32mdef\u001b[0m \u001b[0m_schema_da\u001b[0m\u001b[0;34m(\u001b[0m\u001b[0mself\u001b[0m\u001b[0;34m)\u001b[0m \u001b[0;34m->\u001b[0m \u001b[0mList\u001b[0m\u001b[0;34m[\u001b[0m\u001b[0mColumnSpecType\u001b[0m\u001b[0;34m]\u001b[0m\u001b[0;34m:\u001b[0m\u001b[0;34m\u001b[0m\u001b[0;34m\u001b[0m\u001b[0m\n",
            "\u001b[0;32m/usr/local/lib/python3.11/dist-packages/cassio/table/base_table.py\u001b[0m in \u001b[0;36m__init__\u001b[0;34m(self, table, session, keyspace, ttl_seconds, row_id_type, skip_provisioning, async_setup, body_index_options, body_type)\u001b[0m\n\u001b[1;32m     62\u001b[0m         \u001b[0mbody_type\u001b[0m\u001b[0;34m:\u001b[0m \u001b[0mstr\u001b[0m \u001b[0;34m=\u001b[0m \u001b[0;34m\"TEXT\"\u001b[0m\u001b[0;34m,\u001b[0m\u001b[0;34m\u001b[0m\u001b[0;34m\u001b[0m\u001b[0m\n\u001b[1;32m     63\u001b[0m     ) -> None:\n\u001b[0;32m---> 64\u001b[0;31m         \u001b[0mself\u001b[0m\u001b[0;34m.\u001b[0m\u001b[0msession\u001b[0m \u001b[0;34m=\u001b[0m \u001b[0mcheck_resolve_session\u001b[0m\u001b[0;34m(\u001b[0m\u001b[0msession\u001b[0m\u001b[0;34m)\u001b[0m\u001b[0;34m\u001b[0m\u001b[0;34m\u001b[0m\u001b[0m\n\u001b[0m\u001b[1;32m     65\u001b[0m         \u001b[0mself\u001b[0m\u001b[0;34m.\u001b[0m\u001b[0mkeyspace\u001b[0m \u001b[0;34m=\u001b[0m \u001b[0mcheck_resolve_keyspace\u001b[0m\u001b[0;34m(\u001b[0m\u001b[0mkeyspace\u001b[0m\u001b[0;34m)\u001b[0m\u001b[0;34m\u001b[0m\u001b[0;34m\u001b[0m\u001b[0m\n\u001b[1;32m     66\u001b[0m         \u001b[0mself\u001b[0m\u001b[0;34m.\u001b[0m\u001b[0mtable\u001b[0m \u001b[0;34m=\u001b[0m \u001b[0mtable\u001b[0m\u001b[0;34m\u001b[0m\u001b[0;34m\u001b[0m\u001b[0m\n",
            "\u001b[0;32m/usr/local/lib/python3.11/dist-packages/cassio/config/__init__.py\u001b[0m in \u001b[0;36mcheck_resolve_session\u001b[0;34m(arg_session)\u001b[0m\n\u001b[1;32m    389\u001b[0m     \u001b[0ms\u001b[0m \u001b[0;34m=\u001b[0m \u001b[0mresolve_session\u001b[0m\u001b[0;34m(\u001b[0m\u001b[0marg_session\u001b[0m\u001b[0;34m)\u001b[0m\u001b[0;34m\u001b[0m\u001b[0;34m\u001b[0m\u001b[0m\n\u001b[1;32m    390\u001b[0m     \u001b[0;32mif\u001b[0m \u001b[0ms\u001b[0m \u001b[0;32mis\u001b[0m \u001b[0;32mNone\u001b[0m\u001b[0;34m:\u001b[0m\u001b[0;34m\u001b[0m\u001b[0;34m\u001b[0m\u001b[0m\n\u001b[0;32m--> 391\u001b[0;31m         \u001b[0;32mraise\u001b[0m \u001b[0mValueError\u001b[0m\u001b[0;34m(\u001b[0m\u001b[0;34m\"DB session not set.\"\u001b[0m\u001b[0;34m)\u001b[0m\u001b[0;34m\u001b[0m\u001b[0;34m\u001b[0m\u001b[0m\n\u001b[0m\u001b[1;32m    392\u001b[0m     \u001b[0;32melse\u001b[0m\u001b[0;34m:\u001b[0m\u001b[0;34m\u001b[0m\u001b[0;34m\u001b[0m\u001b[0m\n\u001b[1;32m    393\u001b[0m         \u001b[0;32mreturn\u001b[0m \u001b[0ms\u001b[0m\u001b[0;34m\u001b[0m\u001b[0;34m\u001b[0m\u001b[0m\n",
            "\u001b[0;31mValueError\u001b[0m: DB session not set."
          ]
        }
      ],
      "source": [
        "from langchain_core.embeddings import Embeddings\n",
        "from typing import List\n",
        "\n",
        "class GeminiEmbeddings(Embeddings):\n",
        "    def __init__(self, model_name=\"models/embedding-001\", api_key=None):\n",
        "        genai.configure(api_key=api_key)\n",
        "        self.model = model_name\n",
        "\n",
        "    def embed_query(self, text: str) -> List[float]:\n",
        "        response = genai.embed_content(model=self.model, content=text)\n",
        "        return response[\"embedding\"]\n",
        "\n",
        "    def embed_documents(self, texts: List[str]) -> List[List[float]]:\n",
        "        embeddings = []\n",
        "        for text in texts:\n",
        "            response = genai.embed_content(model=self.model, content=text)\n",
        "            embeddings.append(response[\"embedding\"])\n",
        "        return embeddings\n",
        "\n",
        "# Step 4: Initialize Gemini (free tier)\n",
        "gemini_embeddings = GeminiEmbeddings(\n",
        "    api_key=\"your_Gemini_API_Key\"  # Get from https://aistudio.google.com/\n",
        ")\n",
        "\n",
        "# Step 5: Connect to Cassandra/Astra DB\n",
        "astra_vector_store = Cassandra(\n",
        "    embedding=gemini_embeddings,  # Using free Gemini embeddings\n",
        "    table_name=\"qa_demo\",\n",
        "    session=None,  # Auto-initialized if CASSIO_TOKEN, CASSIO_DB_ID are set\n",
        "    keyspace=None,  # Optional\n",
        ")\n"
      ]
    },
    {
      "cell_type": "code",
      "execution_count": null,
      "metadata": {
        "id": "9FMAhKr77AVO"
      },
      "outputs": [],
      "source": [
        "from langchain.text_splitter import CharacterTextSplitter\n",
        "# We need to split the text using Character Text Split such that it sshould not increse token size\n",
        "text_splitter = CharacterTextSplitter(\n",
        "    separator = \"\\n\",\n",
        "    chunk_size = 800,\n",
        "    chunk_overlap  = 200,\n",
        "    length_function = len,\n",
        ")\n",
        "texts = text_splitter.split_text(raw_text)"
      ]
    },
    {
      "cell_type": "code",
      "execution_count": null,
      "metadata": {
        "colab": {
          "base_uri": "https://localhost:8080/"
        },
        "id": "k8BDHAyT7Gjr",
        "outputId": "2e1438e1-adcb-4fca-a324-ae192766c195"
      },
      "outputs": [
        {
          "data": {
            "text/plain": [
              "['GOVERNMENT OF INDIA\\nBUDGET 2021-2022\\nSPEECH\\nOF\\nNIRMALA SITHARAMAN\\nMINISTER OF FINANCE\\nFebruary 1,  2021CONTENTS  \\nPART -A \\n  Page No.  \\n\\uf0b7 Introduction  1 \\n\\uf0b7 Health and Wellbeing  5 \\n\\uf0b7 Physical and Financial Capital and Infrastructure  7 \\n\\uf0b7 Inclusive Development for Aspirational India  19 \\n\\uf0b7 Reinvigorating Human Capital  22 \\n\\uf0b7 Innovation and R&D  23 \\n\\uf0b7 Minimum Government, Maximum Governance  24 \\n\\uf0b7 Fiscal Position  25 \\n \\nPART B  \\nDirect Tax Proposals  28 \\n\\uf0b7 Relief to Senior Citizens  \\n\\uf0b7 Reduction in Time for Income Tax Proceedings  \\n\\uf0b7 Setting up the Dispute Resolution Committee  \\n\\uf0b7 Faceless ITAT  \\n\\uf0b7 Relaxation to NRI  \\n\\uf0b7 Exemption from Audit  \\n\\uf0b7 Relief for Dividend  \\n\\uf0b7 Attracting foreign investment into infrastructure sector  \\n\\uf0b7 Affordable Housing/Rental Housing  \\n\\uf0b7 Tax incentives to IFSC',\n",
              " '\\uf0b7 Relaxation to NRI  \\n\\uf0b7 Exemption from Audit  \\n\\uf0b7 Relief for Dividend  \\n\\uf0b7 Attracting foreign investment into infrastructure sector  \\n\\uf0b7 Affordable Housing/Rental Housing  \\n\\uf0b7 Tax incentives to IFSC  \\n\\uf0b7 Pre-filling of Returns  \\n\\uf0b7 Relief to Small Trusts  \\n\\uf0b7 Labour Welfare  \\n \\nIndirect Tax Proposals  33 \\n\\uf0b7 GST  \\n\\uf0b7 Custom Duty Rationalization  \\n\\uf0b7 Electronic and Mobile  Phone Industry  \\n\\uf0b7 Iron and Steel  \\n\\uf0b7 Textile  \\n\\uf0b7 Chemicals  (ii) \\n \\n\\uf0b7 Gold and Silver  \\n\\uf0b7 Renewable Energy  \\n\\uf0b7 Capital Equipment  \\n\\uf0b7 MSME Products  \\n\\uf0b7 Agriculture Products  \\nAnnexures  \\n Annexures to Part A of the Speech  37 \\n \\n\\uf0b7 Health and Wellbeing – Expenditure  \\n\\uf0b7 Flagship Projects: Roads and Highways  \\n\\uf0b7 Highlights of Disinvestment/Strategic Disinvestment Policy  \\n\\uf0b7 MSP Purchases of Agricultural Commodities',\n",
              " '\\uf0b7 Health and Wellbeing – Expenditure  \\n\\uf0b7 Flagship Projects: Roads and Highways  \\n\\uf0b7 Highlights of Disinvestment/Strategic Disinvestment Policy  \\n\\uf0b7 MSP Purchases of Agricultural Commodities  \\n\\uf0b7 Initiatives on Education as part of NEP  \\n\\uf0b7 Statement of Extra Budgetary Resources  \\n(Govt. fully serviced bonds, NSSF loan and other resources)  \\n \\n Annexures to Part B of the Speech               45 \\n Direct Tax   \\n Indirect Tax    \\n \\nBudget 202 1-2022 \\n \\nSpeech of  \\nNirmala Sitharaman  \\nMinister of Finance  \\nFebru ary 1, 202 1 \\nHon’ble Speaker,  \\nI present the  Budget for the year 202 1-2022.  \\nIntroduction  \\n1. Honourable Speaker, the preparation of this Budget was undertaken \\nin circumstances like never before. We knew of calamities that have',\n",
              " 'Introduction  \\n1. Honourable Speaker, the preparation of this Budget was undertaken \\nin circumstances like never before. We knew of calamities that have \\naffected a country or a region within a country, but what we have endured \\nwith COVID -19 through 2020 is sui generis.  \\n \\n2. Whe n I presented the Budget 2020 -21, we could not have imagined \\nthat the global economy, already in throes of a slowdown, would be pushed \\ninto an unprecedented contraction.  \\n \\n3. We could not have also imagined then that our people as those in \\nother countries would have to endure the loss of near and dear ones and \\nsuffer hardships brought about due to a health crisis.  \\n \\n4. The risk of not having a lockdown was far too high. Within 48 hours',\n",
              " 'suffer hardships brought about due to a health crisis.  \\n \\n4. The risk of not having a lockdown was far too high. Within 48 hours \\nof declaring a three -week -long complete lockdown, the Prime Minister \\nannounc ed the Pradhan Mantri Garib Kalyan Yojana, valued at `2.76 lakh \\ncrores  – this provided,  free food grain to 800 million people, free cooking \\ngas for 80 million families for months, and cash directly to over 400 million \\nfarmers, women, elderly, the poor and  the needy.  \\n \\n 2 \\n \\n \\n 5. Even as a large section of citizens stayed home, milk, vegetable, and \\nfruit -suppliers, health and sanitary workers, truck drivers, railways and \\npublic transport workers, bank employees, electricity workers, our \\nannadata s, police, firemen, and  the armed forces, all had to go about their',\n",
              " 'public transport workers, bank employees, electricity workers, our \\nannadata s, police, firemen, and  the armed forces, all had to go about their \\nwork as normal, but with the additional anxiety of the virus hanging over \\nthem. We recognise this, and I think I speak on behalf of everybody in this \\naugust House, when I express my heartfelt gratitude to these men and \\nwomen, for how they were able to carry out their work and duty, to provide \\nfor the nation’s basics, over those crucial months.  \\n \\n6. Speaker Sir, for public good, Honourable Members of Parliament \\nand Members of Legislative Assemblies too offered their s alaries.  \\n \\n7. In May 2020, the government announced the AtmaNirbhar Bharat \\npackage (ANB 1.0) . To sustain the recovery, further into the year, we also',\n",
              " '7. In May 2020, the government announced the AtmaNirbhar Bharat \\npackage (ANB 1.0) . To sustain the recovery, further into the year, we also \\nrolled out two more AtmaNirbhar Bharat packages (ANB 2.0 and ANB 3.0). \\nTotal financial impact of all AtmaNirbh ar Bharat packages including \\nmeasures taken by RBI was estimated to about `27.1 lakh crores  which \\namounts to more than 13% of GDP.  \\n \\n8. As a government, we kept a watch on the situation and were \\nproactive in our responses. The government, led by the Prime Minister, \\nstretched its resources to deliver for most vulnerable sections of our society \\n– the poorest of the poor, the Dalits, Tribals,  the elderly, the migrant \\nworkers, and our children. The PMGKY, the three ANB packages, and',\n",
              " '– the poorest of the poor, the Dalits, Tribals,  the elderly, the migrant \\nworkers, and our children. The PMGKY, the three ANB packages, and \\nannouncements made later were like five mini -budgets in themselves.  \\n \\n9. The AtmaNirbhar Packages accelerated our pace of structural \\nreforms. Redefinition of MSMEs , Commercialisation of the Mineral Sector, \\nAgriculture and Labour Reforms, Privatisation of Public Sector Undertakings, \\nOne Nation One Ration Card, and Production Linked Incentive Schemes are \\nsome of the notable reforms carried out during this period.  Fac eless \\nIncome Tax Assessment, DBT and Financial Inclusion are the others.  \\n \\n10. Today, India has two vaccines available, and has begun medically \\nsafeguarding not only her own citizens against COVID -19, but also those of',\n",
              " '10. Today, India has two vaccines available, and has begun medically \\nsafeguarding not only her own citizens against COVID -19, but also those of \\n100 or more countries. It is added comfor t to know that two or more \\nvaccines are also expected soon.  \\n 3 \\n \\n \\n 11. Honourable Prime Minister launched the vaccination drive by \\ncrediting and thanking our scientists. We are ever grateful for the strength \\nand rigour of their efforts.  \\n \\n12. Having said that, we are all  reminded time and again that our fight \\nagainst COVID -19 continues into 2021.  \\n \\n13. Now, just as it had happened after the two World Wars, there are \\nsigns that the political, economic, and strategic relations in the post COVID \\nworld are changing. This moment in  history is the dawn of a new era – one',\n",
              " \"signs that the political, economic, and strategic relations in the post COVID \\nworld are changing. This moment in  history is the dawn of a new era – one \\nin which India is well -poised to truly be the land of promise and hope.  \\n \\n''Faith is the bird that feels the light and sings when the dawn is still dark''.  \\n-Rabindranath Tagore  \\n(Fireflies – A Collection of Aphorisms)  \\n \\n14. In this spirit, I can’t help but recall the joy that we, as a cricket -loving \\nnation, felt after Team India’s recent spectacular success in Australia. It has \\nreminded us of all the qualities that we as a people, particularly our youth, \\nepitomise of having  abundant promise and the unsuppressed thirst to \\nperform and succeed.  \\n \\n15. Today, data shows that India now has one of the lowest death rate\",\n",
              " 'epitomise of having  abundant promise and the unsuppressed thirst to \\nperform and succeed.  \\n \\n15. Today, data shows that India now has one of the lowest death rate \\nof 112 per million  population and one of the lowest active cases of  about \\n130 per million. This has laid the foundation  to the revival we are seeing \\nnow in the economy.  \\n \\n16. This Budget will be the first of this new decade. This Budget will also \\nbe a digital Budget and that has happened with all your support.  \\n \\n17. So far, only three times has a Budget followed a contraction in the  \\neconomy. All such contractions were as a result of situations typical to \\nIndia. This time, the contraction in our economy is due to a global \\npandemic, just like in several other countries.',\n",
              " 'economy. All such contractions were as a result of situations typical to \\nIndia. This time, the contraction in our economy is due to a global \\npandemic, just like in several other countries.  \\n \\n18. Having said that, I want to confidently state that our Government  is \\nfully prepared to support and facilitate the economy’s reset. This Budget \\nprovides every opportunity for our economy to raise and capture the pace \\nthat it needs for sustainable growth.  \\n \\n19. 2021 is the year of many important milestones for our history. I \\nmention a few of these: It is the 75th year of Independence; 60 years of \\nGoa’s accession to India; 50 years of the 1971 India -Pakistan War; it will be 4 \\n \\n \\n the year of the 8th Census of Independent India; it will also be India’s turn',\n",
              " 'Goa’s accession to India; 50 years of the 1971 India -Pakistan War; it will be 4 \\n \\n \\n the year of the 8th Census of Independent India; it will also be India’s turn \\nat the BRICS Presidency; the  year for our Chandrayaan -3 Mission; and the \\nHaridwar Maha Kumbh.  \\n \\n20. Honourable Speaker, before I commence Part A of the Budget, I \\nwant to take a moment to acknowledge how isolating and distancing \\nseemed like insurmountable challenges for a country like ours  that has \\npeople coming together in times of crises. It hurt us in many ways. I bow my \\nhead in respect to every citizen, for the endurance shown in facing what \\nwas an undeniably a tough year for all our physical and mental well -being.  \\n \\n \\nPART A  \\n \\n21. In Part A,  I wish to lay a vision for AtmaNirbhar Bharat.',\n",
              " 'was an undeniably a tough year for all our physical and mental well -being.  \\n \\n \\nPART A  \\n \\n21. In Part A,  I wish to lay a vision for AtmaNirbhar Bharat.  \\n \\n22. AtmaNirbharta is not a new idea. Ancient India was largely self -\\nreliant, and equally, a business epicentre of the world.  \\n \\n23. AtmaNirbhar Bharat is an expression of 130 crores  Indians who have \\nfull confidence in their capabilities and skills.  \\n \\n24. We are already part of International groupings such as the G20 and \\nBRICS. The Coalition for Disaster Resilient Infrastructure and the \\nInternational Solar alliance are realities today due to India’s efforts.  \\n \\n25. The proposals in Part A will further strengthen the sankalp of Nation \\nFirst, Doubling Farmer’s Income, Strong Infrastructure, Healthy India, Good',\n",
              " '25. The proposals in Part A will further strengthen the sankalp of Nation \\nFirst, Doubling Farmer’s Income, Strong Infrastructure, Healthy India, Good \\nGovernance, Opportunities for Youth, Education for All, Women \\nEmpowerment, and Inclusive Development, among others.  \\n \\n26. Additionally, also on the path to fast -implementation are the 13 \\npromises we had made in the Budget of 2015 -16  which were to materialise \\nduring the Amrut Mahotsav of 2022, on the 75th year of our Independence. \\nThey too resonate  with this vision of AtmaNirbharta.  \\n \\n27. The Budget proposals for 202 1-2022 rest on 6 pillars.  \\ni. Health and Wellbeing  \\nii. Physical & Financial Capital, and Infrastructure  5 \\n \\n \\n iii. Inclusive Development for Aspirational India  \\niv. Reinvigorating Human Capital',\n",
              " 'i. Health and Wellbeing  \\nii. Physical & Financial Capital, and Infrastructure  5 \\n \\n \\n iii. Inclusive Development for Aspirational India  \\niv. Reinvigorating Human Capital  \\nv. Innovation and R&D  \\nvi. Minimum Government and Maximum Governance  \\n \\n1. Health and Wellbeing  \\n \\n28. Even at the outset, I would like to say that the investment on Health \\nInfrastructure in this Budget has increased substantially. Progressively, as \\ninstitutions absorb more, we shall commit more.  \\n \\n29. Taking a holistic approach to Health, we focus on strengthening \\nthree areas: Preventive, Curative, and Wellbeing.  \\n \\nHealth Systems  \\n \\n30. A new centrally sponsored scheme, PM AtmaNirbhar Swasth Bharat \\nYojana , will be launched with an outlay of  about  ` 64,180 crores over 6',\n",
              " 'Health Systems  \\n \\n30. A new centrally sponsored scheme, PM AtmaNirbhar Swasth Bharat \\nYojana , will be launched with an outlay of  about  ` 64,180 crores over 6 \\nyears. This will develop capacities of primary, secondary, and tertiary care \\nHealth Systems, strengthen existing national institutions, and create new \\ninstitutions, to cater to detection and cure of new and emerging diseases. \\nThis will be  in addition to the National Health Mission. The main \\ninterventions under the scheme are:  \\n \\na. Support for 17,788 rural and 11,024 urban Health and Wellness \\nCenters  \\nb. Setting up integrated public health labs in all districts and 3382 block \\npublic health units in  11 states;  \\nc. Establishing critical care hospital blocks in 602 districts and 12 \\ncentral institutions;',\n",
              " 'public health units in  11 states;  \\nc. Establishing critical care hospital blocks in 602 districts and 12 \\ncentral institutions;  \\nd. Strengthening of the National Centre for Disease Control (NCDC), its \\n5 regional branches and 20 metropolitan health surveillance units;  \\ne. Expansion of the In tegrated Health Information Portal to all \\nStates/UTs to connect all public health labs;  \\nf. Operationalisation of 17 new Public Health Units and strengthening \\nof 33 existing Public Health Units at Points of Entry, that is at 32 \\nAirports, 11 Seaports and 7 land  crossings;  \\ng. Setting up of 15 Health Emergency Operation Centers and 2 mobile \\nhospitals; and  6 \\n \\n \\n h. Setting up of a national institution for One Health, a Regional',\n",
              " 'g. Setting up of 15 Health Emergency Operation Centers and 2 mobile \\nhospitals; and  6 \\n \\n \\n h. Setting up of a national institution for One Health, a Regional \\nResearch Platform for WHO South East Asia Region, 9 Bio -Safety \\nLevel III laboratories and 4 regional  National Institutes for Virology.  \\n \\nNutrition  \\n \\n31. To strengthen nutritional content, delivery, outreach, and outcome, \\nwe will merge the Supplementary Nutrition Programme and the Poshan \\nAbhiyan and launch the Mission Poshan  2.0. We shall adopt an intensified \\nstrategy to improve nutritional outcomes across 112 Aspirational Districts.  \\n \\nUniversal Coverage of Water Supply  \\n \\n32. The World Health Organisation has repeatedly stressed the \\nimportance of clean water, sanitation, and clean  environment, as a pre',\n",
              " 'Universal Coverage of Water Supply  \\n \\n32. The World Health Organisation has repeatedly stressed the \\nimportance of clean water, sanitation, and clean  environment, as a pre \\nrequisite to achieving universal health.  \\n \\n33. The Jal Jeevan Mission (Urban), will be launched.  It aims at universal \\nwater supply in all 4,37 8 Urban Local Bodies with 2.86 crores  household tap \\nconnections, as well as liquid waste management in 500 AMRUT cities. It \\nwill be implemented over 5 years, with an outlay of `2,87,0 00 crores.  \\n \\nSwachch Bharat, Swasth Bharat  \\n \\n34. For further swachhta  of urban India, we intend to focus on complete  \\nfaecal sludge management and waste water treatment, source segregation \\nof garbage, reduction in single -use plastic, reduction in air pollution by',\n",
              " 'faecal sludge management and waste water treatment, source segregation \\nof garbage, reduction in single -use plastic, reduction in air pollution by \\neffectively managing waste from construction -and-demolition activities and \\nbio-remediation of all legacy dump  sites. The Urban Swachh Bharat Mission  \\n2.0 will be implemented with a total financial allocation of `1,41,678 crores \\nover a period of 5 years from 2021 -2026.  \\n \\nClean Air  \\n \\n35. To tackle the burgeoning problem of  air pollution, I propose to \\nprovide an amount of `2,217 crores for 42 urban centres with a million -plus \\npopulation in this budget.  \\n 7 \\n \\n \\n Scrapping Policy  \\n \\n36. We are separately announcing a voluntary vehicle scrapping policy, \\nto phase out old and unfit vehicles. This will help in encouraging fuel -',\n",
              " '7 \\n \\n \\n Scrapping Policy  \\n \\n36. We are separately announcing a voluntary vehicle scrapping policy, \\nto phase out old and unfit vehicles. This will help in encouraging fuel -\\nefficient, environment friendly vehicles, thereby reducing vehicular \\npollution and oil import bill.  Vehicles would u ndergo fitness tests in \\nautomated fitness centres after 20 years in case of personal vehicles, and \\nafter 15 years in case of commercial vehicles. Details of the scheme will be \\nseparately shared by the Ministry.  \\n \\nVaccines  \\n \\n37. The Pneumococcal Vaccine, a Made in India product, is presently \\nlimited to only 5 states will be rolled out across the country. This will avert \\nmore than 50,000 child deaths annually.  \\n \\n38. I have provided `35,000 crores  for Covid -19 vaccine in BE 2021 -22. I',\n",
              " 'more than 50,000 child deaths annually.  \\n \\n38. I have provided `35,000 crores  for Covid -19 vaccine in BE 2021 -22. I \\nam committed to provide further funds if required.  \\n \\n39. The Budget outlay for Health and Wellbeing  is `2,23,846 crores  in BE \\n2021 -22 as against this year’s BE of `94,452 crores  an increase of  137 \\npercentage. The details o f the same are at Annexure I of  the Speech.  \\n \\n2. Physical and Financial  Capital and Infrastructure  \\n \\nAtma Nirbhar Bharat – Production Linked Incentive scheme (PLI)  \\n \\n40. For a USD 5 trillion economy, our manufacturing sector has to grow \\nin double digits on a sustained basis. Our manufacturing companies need to \\nbecome an integral par t of global supply chains, possess core competence',\n",
              " 'in double digits on a sustained basis. Our manufacturing companies need to \\nbecome an integral par t of global supply chains, possess core competence \\nand cutting -edge technology. To achieve all of the above, PLI schemes to \\ncreate manufacturing global champions for an AtmaNirbhar Bharat have \\nbeen announced for 13 sectors.  For this, the government has co mmitted \\nnearly `1.97 lakh crores , over 5 years starting FY 2021 -22. This initiative will \\nhelp bring scale and size in key sectors, create and nurture global \\nchampions and provide jobs to our youth.   \\n \\n 8 \\n \\n \\n Textiles  \\n \\n41. To enable the textile industry to become globally competitive, \\nattract large investments and boost employment generation, a scheme of',\n",
              " '8 \\n \\n \\n Textiles  \\n \\n41. To enable the textile industry to become globally competitive, \\nattract large investments and boost employment generation, a scheme of \\nMega Investment Textiles Parks (MITRA)  will be launched in addition to the \\nPLI scheme. This will create world class infras tructure with plug and play \\nfacilities to enable create global champions in exports. 7 Textile Parks will \\nbe established over 3 years.  \\n \\nInfrastructure  \\n \\n42. The National Infrastructure Pipeline (NIP) which I announced in \\nDecember 2019 is the first -of-its-kind, whole -of-government exercise ever \\nundertaken by Government of India. The NIP was launched with 6835 \\nprojects; the project pipeline has now expanded to 7 ,400 projects. Around',\n",
              " 'undertaken by Government of India. The NIP was launched with 6835 \\nprojects; the project pipeline has now expanded to 7 ,400 projects. Around \\n217 projects worth `1.10 lakh crores under some key infrastructure \\nMinistries have been completed.  \\n \\n43. The NIP is a specific target which this government is committed to \\nachieving over the coming years. It will require a major increase in funding \\nboth from the government and the financial sector. In this Budget, I \\npropose to take concrete steps to do this, in three ways:  \\n \\n44. Firstly, by creating the institutional structures; secondly, by a big \\nthrust on monetizing assets, and thirdly by enhancing the share of capital \\nexpenditure in central and state budgets.  \\n \\n \\nInfrastructure financing - Development Financial Institution (DFI)',\n",
              " 'thrust on monetizing assets, and thirdly by enhancing the share of capital \\nexpenditure in central and state budgets.  \\n \\n \\nInfrastructure financing - Development Financial Institution (DFI)  \\n \\n45. Infrastructure needs long term debt financing. A professionally \\nmanaged Development Financial Institution is necessary to act as a \\nprovider, enabler and catalyst for infrastructure financing. Accordingly, I \\nshall introduce a Bill to set up a DFI. I have pr ovided a sum of `20,000 crores \\nto capitalise this institution. The ambition is to have a lending portfolio of at \\nleast `5 lakh crores for this DFI in three years time.  \\n 9 \\n \\n \\n 46. Debt Financing of InVITs and REITs by Foreign Portfolio Investors will \\nbe enabled by ma king suitable amendments in the relevant legislations. This',\n",
              " '9 \\n \\n \\n 46. Debt Financing of InVITs and REITs by Foreign Portfolio Investors will \\nbe enabled by ma king suitable amendments in the relevant legislations. This \\nwill further ease access of finance to InVITS and REITs thus augmenting \\nfunds for infrastructure and real estate sectors.  \\n \\nAsset Monetisation  \\n \\n47. Monetizing operating public infrastructure assets is a very important \\nfinancing option for new infrastructure construction. A “National \\nMonetization Pipeline”  of potential brownfield infrastructure assets will be \\nlaunched.  An Asset Monetization dashboard will also be created for \\ntracking the progress and to provide visibility to investors. Some important \\nmeasures in the direction of monetisation are:  \\n \\na. National Highways Authority of India and PGCIL each have',\n",
              " 'tracking the progress and to provide visibility to investors. Some important \\nmeasures in the direction of monetisation are:  \\n \\na. National Highways Authority of India and PGCIL each have \\nsponsored one InvIT  that will attract international and domestic \\ninstitutional investors. Five operational roads with an estimated \\nenterprise value of ` 5,000 crores are being transferred to the NHAI \\nInvIT.  Similarily, transmission assets of a value of `7,000 crores will \\nbe transferred to the PGCIL InvIT.  \\nb. Railways will monetise Dedicated Freight Corridor assets for \\noperations and maintenance, after commissioning.  \\nc. The next lot of Airports will be monetised for operations and \\nmanagement concession.  \\nd. Other core infrastructure assets that will be rolled out under the',\n",
              " 'c. The next lot of Airports will be monetised for operations and \\nmanagement concession.  \\nd. Other core infrastructure assets that will be rolled out under the \\nAsset Monetization Programme are: (i) NHAI Operational Toll Roads \\n(ii) Transmission Assets of PGCIL (iii) Oil and Gas Pipelines of GAIL, \\nIOCL and HPCL (iv) AAI Airports in Tier II and III c ities, (v) Other \\nRailway Infrastructure Assets (vi) Warehousing Assets of CPSEs such \\nas Central Warehousing Corporation and NAFED among others and \\n(vii) Sports Stadiums.  \\n  \\nSharp Increase in Capital Budget  \\n \\n48. In the BE 2020 -21, we had provided `4.12 lakh cror es for Capital \\nExpenditure. It was our effort that in spite of resource crunch we should \\nspend more on capital and we are likely to end the year at around `4.39 10',\n",
              " 'Expenditure. It was our effort that in spite of resource crunch we should \\nspend more on capital and we are likely to end the year at around `4.39 10 \\n \\n \\n lakh crores which I have provided in the RE 2020 -21.  For 2021 -22, I propose \\na sharp increase i n capital expenditure and thus have provided `5.54 lakh \\ncrores which is 34.5% more than the BE of 2020 -21.  Of this, I have kept a \\nsum of more than `44,000 crores in the Budget head of the Department of \\nEconomic Affairs to be provided for projects/programm es/departments \\nthat show good progress on Capital Expenditure and are in need of further \\nfunds. Over and above this expenditure, we would also be providing more \\nthan `2 lakh crores to States and Autonomous Bodies for their Capital \\nExpenditure.',\n",
              " 'funds. Over and above this expenditure, we would also be providing more \\nthan `2 lakh crores to States and Autonomous Bodies for their Capital \\nExpenditure.   \\n \\n49. We will a lso work out specific mechanisms to nudge States to spend \\nmore of their budget on creation of infrastructure.  \\n \\nRoads and Highways Infrastructure  \\n \\n50. More than 13,000 km length of roads, at a cost of `3.3 lakh crores, \\nhas already been awarded under the `5.35 lakh crores Bharatmala \\nPariyojana project of which 3,800 kms have been constructed. By March \\n2022, we would be awarding another 8,500 kms and complete an additional \\n11,000 kms of national highway corridors.  \\n \\n51. To further augment road infrastructure, mor e economic corridors \\nare also being planned. Some are:',\n",
              " '11,000 kms of national highway corridors.  \\n \\n51. To further augment road infrastructure, mor e economic corridors \\nare also being planned. Some are:  \\n \\na. 3,500 km of National Highway works in the state of Tamil Nadu at an \\ninvestment of `1.03 lakh crores. These include Madurai -Kollam \\ncorridor, Chittoor -Thatchur corridor. Construction will start next \\nyear. \\nb. 1,100 km of National Highway works in the State of Kerala at an \\ninvestment of `65,000 crores including 600 km section of Mumbai -\\nKanyakumari corridor in Kerala.  \\nc. 675 km of highway works in the state of West Bengal at a cost of \\n`25,000 crores  including upgradation of existing road -Kolkata – \\nSiliguri.  \\nd. National Highway works of around `19,000 crores  are currently in',\n",
              " '`25,000 crores  including upgradation of existing road -Kolkata – \\nSiliguri.  \\nd. National Highway works of around `19,000 crores  are currently in \\nprogress in the State of Assam. Further works of more than `34,000 11 \\n \\n \\n crores covering more than 1300 kms of National Highways will be \\nundertaken in the State in the coming three years.  \\n \\n52. Some of the flagship corridors and other important projects that \\nwould see considerable activity in 2021 -22 are in Annexure -II.   \\n \\n53. I am also providing an enhanced outlay of `1,18,101 lakh crores for \\nMinistry of Roa d Transport and Highways, of which `1,08,230 crores is for \\ncapital, the highest ever.  \\n \\nRailway Infrastructure  \\n \\n54. Indian Railways have prepared a National Rail Plan for India – 2030.',\n",
              " 'capital, the highest ever.  \\n \\nRailway Infrastructure  \\n \\n54. Indian Railways have prepared a National Rail Plan for India – 2030. \\nThe Plan is to create a ‘future ready’ Railway system by 2030.  \\n \\n55. Bringing down the logistic costs for our industry is at the core of our \\nstrategy to enable ‘Make in India’. It is expected that Western Dedicated \\nFreight Corridor (DFC) and Eastern DFC will be commissioned by June 2022. \\nThe following additional initiatives are prop osed:  \\n \\na. The Sonnagar – Gomoh Section (263.7 km) of Eastern DFC will be \\ntaken up in PPP mode in 2021 -22. Gomoh -Dankuni section of 274.3 \\nkm will also be taken up in short succession.  \\nb.  We will undertake future dedicated freight corridor projects namely \\nEast Co ast corridor from Kharagpur to Vijayawada, East -West',\n",
              " 'km will also be taken up in short succession.  \\nb.  We will undertake future dedicated freight corridor projects namely \\nEast Co ast corridor from Kharagpur to Vijayawada, East -West \\nCorridor from Bhusaval to Kharagpur to Dankuni and North -South \\ncorridor from Itarsi to Vijayawada. Detailed Project Reports will be \\nundertaken in the first phase.    \\nc. Broad Gauge Route Kilometers (RKM) el ectrified is expected to reach \\n46,000 RKM i.e., 72% by end of 2021 from 41,548 RKM on 1st Oct \\n2020 . 100% electrification of Broad -Gauge routes will be completed \\nby December, 2023.  \\n \\n56. For Passenger convenience and safety the following measures are \\nproposed:  12 \\n \\n \\n a. We will introduce the aesthetically designed Vista Dome LHB coach',\n",
              " 'by December, 2023.  \\n \\n56. For Passenger convenience and safety the following measures are \\nproposed:  12 \\n \\n \\n a. We will introduce the aesthetically designed Vista Dome LHB coach \\non tourist routes to give a better travel experience to passengers.   \\nb. The safety measures undertaken in the past few years have borne \\nresults. To further strengthen this effort, high density  network and \\nhighly utilized network routes of Indian railways will be provided \\nwith an indigenously developed automatic train protection system  \\nthat eliminates train collision due to human error.  \\nc. I am providing a record sum of `1,10,055 crores , for Railways of \\nwhich `1,07,100 crores  is for capital expenditure.  \\n \\nUrban Infrastructure',\n",
              " 'c. I am providing a record sum of `1,10,055 crores , for Railways of \\nwhich `1,07,100 crores  is for capital expenditure.  \\n \\nUrban Infrastructure  \\n57. We will work towards raising the share of public transport in urban \\nareas through expansion of metro rail network and augmentation of city bus \\nservice. A new scheme will be launched at a cost of `18,000 crores  to \\nsupport augmentation of public bus transport services. The scheme will \\nfacilitate deployment of innovative PPP models to enable private sector \\nplayers to finance, acquire, operate and maintain over 20,000 buses.  The \\nscheme will boost the automobile se ctor, provide fillip to economic growth, \\ncreate employment opportunities for our youth and enhance ease of \\nmobility for urban residents.',\n",
              " 'scheme will boost the automobile se ctor, provide fillip to economic growth, \\ncreate employment opportunities for our youth and enhance ease of \\nmobility for urban residents.  \\n \\n58. A total of 702 km of conventional metro is operational and another \\n1,016 km of metro and RRTS is under construction i n 27 cities. Two new \\ntechnologies i.e., ‘MetroLite’ and ‘MetroNeo’ will be deployed to provide \\nmetro rail systems at much lesser cost with same experience, convenience \\nand safety in Tier -2 cities and peripheral areas of Tier -1 cities.   \\n \\n59. Central counterpar t funding will be provided to:  \\na. Kochi Metro Railway Phase -II of 11.5 km at a cost of `1957.05 crores . \\nb. Chennai Metro Railway Phase -II of 118.9 km at a cost of `63,246 \\ncrores.',\n",
              " 'a. Kochi Metro Railway Phase -II of 11.5 km at a cost of `1957.05 crores . \\nb. Chennai Metro Railway Phase -II of 118.9 km at a cost of `63,246 \\ncrores.   \\nc. Bengaluru Metro Railway Project Phase 2A and 2B of 58.19 km at a \\ncost of `14,788 crores.  \\nd. Nagpur  Metro Rail Project Phase -II and Nashik Metro at a cost of \\n`5,976 crores  and `2,092 crores  respectively.  \\n 13 \\n \\n \\n Power Infrastructure  \\n \\n60. The past 6 years have seen a number of reforms and achievements \\nin the power sector.  We have added 139 Giga Watts of installed capacity, \\nconnected an additional 2.8 crores  households and added 1.41 lakh circuit \\nkm of transmission lines.  \\n \\n61. The distribution  companies across the country are monopolies ,  \\neither government or private. There is a need to provide choice to',\n",
              " 'km of transmission lines.  \\n \\n61. The distribution  companies across the country are monopolies ,  \\neither government or private. There is a need to provide choice to \\nconsumers by promoting competition. A framework will be put in place to \\ngive consumers alternatives to choose from among more than one \\nDistrib ution Company.  \\n \\n62. The viability of Distribution Companies is a serious concern. A \\nrevamped reforms -based result -linked power distribution sector scheme \\nwill be launched with an outlay of `3,05,984 crores   over 5 years. The \\nscheme will provide assistance to DISCOMS for Infrastructure creation \\nincluding pre -paid smart metering and feeder separation, upgradation of \\nsystems, etc., tied to financial improvements.',\n",
              " 'scheme will provide assistance to DISCOMS for Infrastructure creation \\nincluding pre -paid smart metering and feeder separation, upgradation of \\nsystems, etc., tied to financial improvements.  \\n \\n63. Prime Minister, while speaking at the 3rd Re-inVest Conference in \\nNovember 2020, had announced plans  to launch a comprehensive National \\nHydrogen Energy Mission. It is now proposed to launch a  Hydrogen Energy \\nMission in  2021 -22 for generating hydrogen from green power sources.   \\n  \\nPorts, Shipping, Waterways  \\n \\n64. Major Ports will be moving from managing their operational services \\non their own to a model where a private partner will manage it for them.  \\nFor the purpose, 7 projects worth more than `2,000 crores  will be offered',\n",
              " 'on their own to a model where a private partner will manage it for them.  \\nFor the purpose, 7 projects worth more than `2,000 crores  will be offered \\nby the Major Ports on Public Private Partnership mode in FY21 -22.  \\n \\n65. A scheme to promote  flagging of merchant ships in India  will be \\nlaunched by providing subsidy support to Indian shipping companies in \\nglobal tenders floated by Ministries and CPSEs. An amount of `1624 crores \\nwill be provided over 5 years. This initiative will enable greater training and 14 \\n \\n \\n employment opportunities for Indian seafarers besides enhancing Indian \\ncompanies share in global shipping.  \\n \\n66. India has enacted Recycling of Ships Act, 2019 and acceded to the \\nHong Kong International Convention.  Around 90 ship recycling yards at',\n",
              " 'companies share in global shipping.  \\n \\n66. India has enacted Recycling of Ships Act, 2019 and acceded to the \\nHong Kong International Convention.  Around 90 ship recycling yards at \\nAlang in Gujarat have already achieved HKC -compliant certificates. Efforts \\nwill be made to bring more ships to India fr om Europe and Japan. Recycling \\ncapacity of around 4.5 Million Light Displacement Tonne (LDT) will be \\ndoubled by 2024. This is expected to generate an additional 1.5 lakh jobs for \\nour youth.  \\n \\nPetroleum & Natural Gas  \\n \\n67. Our government has kept fuel supplies r unning across the country \\nwithout interruption during the COVID -19 lockdown period. Taking note of \\nthe crucial nature of this sector in people’s lives, the following key initiatives \\nare being announced:',\n",
              " 'without interruption during the COVID -19 lockdown period. Taking note of \\nthe crucial nature of this sector in people’s lives, the following key initiatives \\nare being announced:  \\n \\na. Ujjwala Scheme which has benefited 8 crores  households will be \\nextended to cover  1 crores  more beneficiaries . \\nb. We will add 100 more districts in next 3 years to the City Gas \\nDistribution network.   \\nc. A gas pipeline project will be taken up in Union Territory of Jammu & \\nKashmir.  \\nd. An independent Gas Transport System Operator will be set up for \\nfacilitation and coordination of booking of common carrier capacity \\nin all -natural gas pipelines on a non -discriminatory open access \\nbasis.  \\n \\nFinancial Capital  \\n68. I propose to consolidate the pro visions of SEBI Act, 1992,',\n",
              " 'in all -natural gas pipelines on a non -discriminatory open access \\nbasis.  \\n \\nFinancial Capital  \\n68. I propose to consolidate the pro visions of SEBI Act, 1992, \\nDepositories Act, 1996, Securities Contracts (Regulation) Act, 1956 and \\nGovernment Securities Act, 2007 into a rationalized single Securities \\nMarkets Code .   \\n   \\n 15 \\n \\n \\n 69. The Government would support the development of a world class \\nFin-Tech hub at the GIFT -IFSC.  \\n \\n70. To instill confidence amongst the participants in the Corporate Bond \\nMarket during times of stress and to generally enhance secondary market \\nliquidity, it is proposed to create a permanent institutional framework.  The \\npropo sed body would purchase investment grade debt securities both in',\n",
              " 'liquidity, it is proposed to create a permanent institutional framework.  The \\npropo sed body would purchase investment grade debt securities both in \\nstressed and normal times and help in the development of the Bond \\nmarket.   \\n \\n71. In the budget of 2018 -19, Government had announced its intent to \\nestablish a system of regulated gold exchanges in  the country. For the \\npurpose, SEBI will be notified as the regulator and Warehousing \\nDevelopment and Regulatory Authority will be strengthened to set up a \\ncommodity market eco system arrangement including vaulting, assaying, \\nlogistics etc in addition to w arehousing.  \\n \\n72. Towards investor protection, I propose to introduce an investor \\ncharter as a right of all financial investors across all financial products.',\n",
              " 'logistics etc in addition to w arehousing.  \\n \\n72. Towards investor protection, I propose to introduce an investor \\ncharter as a right of all financial investors across all financial products.  \\n \\n73. To give a further boost to the non -conventional energy sector, I \\npropose to provide additional capi tal infusion of `1,000 crores  to Solar \\nEnergy Corporation of India and `1,500 crores  to Indian Renewable Energy \\nDevelopment Agency.   \\n \\nIncreasing FDI in Insurance Sector  \\n \\n74. I propose to amend the Insurance Act, 1938 to increase the \\npermissible FDI  limit from 49% to 74% in Insurance Companies and allow \\nforeign  ownership and control with safeguards . Under the new structure, \\nthe majority of Directors on the Board and key management persons would',\n",
              " 'foreign  ownership and control with safeguards . Under the new structure, \\nthe majority of Directors on the Board and key management persons would \\nbe resident Indians, with at least 50% of Directors being Independent \\nDirectors, and specified percentage of profits being retained as general \\nreserve.  \\n \\nStres sed Asset Resolution by setting up a New Structure  \\n \\n75. The high level of provisioning by public sector banks of their stressed \\nassets calls for measures to clean up the bank books.  An Asset 16 \\n \\n \\n Reconstruction Company Limited and Asset Management Company would \\nbe set up to consolidate and take over the existing  stressed debt and then \\nmanage and dispose of the assets to Alternate Investment Funds and other \\npotential investors for eventual value realization.',\n",
              " 'manage and dispose of the assets to Alternate Investment Funds and other \\npotential investors for eventual value realization.  \\n \\nRecapitalization of PSBs  \\n \\n76. To further consolidate the financial capacity of PSBs , further \\nrecapitalization of `20,000 crores  is proposed in 2021 -22. \\n \\nDeposit Insurance  \\n \\n77. Last year, Government had approved an increase in the Deposit \\nInsurance cover from `1 lakh to `5 lakhs for bank customers. I shall be \\nmoving amendments to the DICGC Act, 1961 in this Session itself to \\nstreamline the provisions, so that if a bank is temporarily unable to fulfil its \\nobligations, the depositors of such a bank can get easy and time -boun d \\naccess to their deposits to the extent of the deposit insurance cover. This']"
            ]
          },
          "execution_count": 14,
          "metadata": {},
          "output_type": "execute_result"
        }
      ],
      "source": [
        "texts[:50]"
      ]
    },
    {
      "cell_type": "markdown",
      "metadata": {
        "id": "V1WK54-74Rpt"
      },
      "source": [
        "### Load the dataset into the vector store\n",
        "\n"
      ]
    },
    {
      "cell_type": "code",
      "execution_count": null,
      "metadata": {
        "colab": {
          "base_uri": "https://localhost:8080/",
          "height": 35
        },
        "id": "GX5BECsdSUUM",
        "outputId": "bbbce1b9-ff08-46f7-98b7-58ad08a95e6d"
      },
      "outputs": [
        {
          "name": "stdout",
          "output_type": "stream",
          "text": [
            "Inserted 50 headlines.\n"
          ]
        }
      ],
      "source": [
        "\n",
        "astra_vector_store.add_texts(texts[:50])\n",
        "\n",
        "print(\"Inserted %i headlines.\" % len(texts[:50]))\n",
        "\n",
        "astra_vector_index = VectorStoreIndexWrapper(vectorstore=astra_vector_store)"
      ]
    },
    {
      "cell_type": "markdown",
      "metadata": {
        "id": "oLJp8yPF4Rpt"
      },
      "source": [
        "### Run the QA cycle\n",
        "\n",
        "Simply run the cells and ask a question -- or `quit` to stop. (you can also stop execution with the \"▪\" button on the top toolbar)\n",
        "\n",
        "Here are some suggested questions:\n",
        "- _What is the current GDP?_\n",
        "- _How much the agriculture target will be increased to and what the focus will be_\n"
      ]
    },
    {
      "cell_type": "code",
      "execution_count": null,
      "metadata": {
        "colab": {
          "base_uri": "https://localhost:8080/"
        },
        "id": "hd0Pd6ZNzgu8",
        "outputId": "37ccff9c-60b0-4e47-b6b6-3946ab14663e"
      },
      "outputs": [
        {
          "name": "stdout",
          "output_type": "stream",
          "text": [
            "Requirement already satisfied: langchain_google_genai in /usr/local/lib/python3.11/dist-packages (2.1.3)\n",
            "Requirement already satisfied: filetype<2.0.0,>=1.2.0 in /usr/local/lib/python3.11/dist-packages (from langchain_google_genai) (1.2.0)\n",
            "Requirement already satisfied: google-ai-generativelanguage<0.7.0,>=0.6.16 in /usr/local/lib/python3.11/dist-packages (from langchain_google_genai) (0.6.17)\n",
            "Requirement already satisfied: langchain-core<0.4.0,>=0.3.52 in /usr/local/lib/python3.11/dist-packages (from langchain_google_genai) (0.3.52)\n",
            "Requirement already satisfied: pydantic<3,>=2 in /usr/local/lib/python3.11/dist-packages (from langchain_google_genai) (2.11.3)\n",
            "Requirement already satisfied: google-api-core!=2.0.*,!=2.1.*,!=2.10.*,!=2.2.*,!=2.3.*,!=2.4.*,!=2.5.*,!=2.6.*,!=2.7.*,!=2.8.*,!=2.9.*,<3.0.0,>=1.34.1 in /usr/local/lib/python3.11/dist-packages (from google-api-core[grpc]!=2.0.*,!=2.1.*,!=2.10.*,!=2.2.*,!=2.3.*,!=2.4.*,!=2.5.*,!=2.6.*,!=2.7.*,!=2.8.*,!=2.9.*,<3.0.0,>=1.34.1->google-ai-generativelanguage<0.7.0,>=0.6.16->langchain_google_genai) (2.24.2)\n",
            "Requirement already satisfied: google-auth!=2.24.0,!=2.25.0,<3.0.0,>=2.14.1 in /usr/local/lib/python3.11/dist-packages (from google-ai-generativelanguage<0.7.0,>=0.6.16->langchain_google_genai) (2.38.0)\n",
            "Requirement already satisfied: proto-plus<2.0.0,>=1.22.3 in /usr/local/lib/python3.11/dist-packages (from google-ai-generativelanguage<0.7.0,>=0.6.16->langchain_google_genai) (1.26.1)\n",
            "Requirement already satisfied: protobuf!=4.21.0,!=4.21.1,!=4.21.2,!=4.21.3,!=4.21.4,!=4.21.5,<7.0.0,>=3.20.2 in /usr/local/lib/python3.11/dist-packages (from google-ai-generativelanguage<0.7.0,>=0.6.16->langchain_google_genai) (5.29.4)\n",
            "Requirement already satisfied: langsmith<0.4,>=0.1.125 in /usr/local/lib/python3.11/dist-packages (from langchain-core<0.4.0,>=0.3.52->langchain_google_genai) (0.3.31)\n",
            "Requirement already satisfied: tenacity!=8.4.0,<10.0.0,>=8.1.0 in /usr/local/lib/python3.11/dist-packages (from langchain-core<0.4.0,>=0.3.52->langchain_google_genai) (9.1.2)\n",
            "Requirement already satisfied: jsonpatch<2.0,>=1.33 in /usr/local/lib/python3.11/dist-packages (from langchain-core<0.4.0,>=0.3.52->langchain_google_genai) (1.33)\n",
            "Requirement already satisfied: PyYAML>=5.3 in /usr/local/lib/python3.11/dist-packages (from langchain-core<0.4.0,>=0.3.52->langchain_google_genai) (6.0.2)\n",
            "Requirement already satisfied: packaging<25,>=23.2 in /usr/local/lib/python3.11/dist-packages (from langchain-core<0.4.0,>=0.3.52->langchain_google_genai) (24.2)\n",
            "Requirement already satisfied: typing-extensions>=4.7 in /usr/local/lib/python3.11/dist-packages (from langchain-core<0.4.0,>=0.3.52->langchain_google_genai) (4.13.2)\n",
            "Requirement already satisfied: annotated-types>=0.6.0 in /usr/local/lib/python3.11/dist-packages (from pydantic<3,>=2->langchain_google_genai) (0.7.0)\n",
            "Requirement already satisfied: pydantic-core==2.33.1 in /usr/local/lib/python3.11/dist-packages (from pydantic<3,>=2->langchain_google_genai) (2.33.1)\n",
            "Requirement already satisfied: typing-inspection>=0.4.0 in /usr/local/lib/python3.11/dist-packages (from pydantic<3,>=2->langchain_google_genai) (0.4.0)\n",
            "Requirement already satisfied: googleapis-common-protos<2.0.0,>=1.56.2 in /usr/local/lib/python3.11/dist-packages (from google-api-core!=2.0.*,!=2.1.*,!=2.10.*,!=2.2.*,!=2.3.*,!=2.4.*,!=2.5.*,!=2.6.*,!=2.7.*,!=2.8.*,!=2.9.*,<3.0.0,>=1.34.1->google-api-core[grpc]!=2.0.*,!=2.1.*,!=2.10.*,!=2.2.*,!=2.3.*,!=2.4.*,!=2.5.*,!=2.6.*,!=2.7.*,!=2.8.*,!=2.9.*,<3.0.0,>=1.34.1->google-ai-generativelanguage<0.7.0,>=0.6.16->langchain_google_genai) (1.70.0)\n",
            "Requirement already satisfied: requests<3.0.0,>=2.18.0 in /usr/local/lib/python3.11/dist-packages (from google-api-core!=2.0.*,!=2.1.*,!=2.10.*,!=2.2.*,!=2.3.*,!=2.4.*,!=2.5.*,!=2.6.*,!=2.7.*,!=2.8.*,!=2.9.*,<3.0.0,>=1.34.1->google-api-core[grpc]!=2.0.*,!=2.1.*,!=2.10.*,!=2.2.*,!=2.3.*,!=2.4.*,!=2.5.*,!=2.6.*,!=2.7.*,!=2.8.*,!=2.9.*,<3.0.0,>=1.34.1->google-ai-generativelanguage<0.7.0,>=0.6.16->langchain_google_genai) (2.32.3)\n",
            "Requirement already satisfied: grpcio<2.0dev,>=1.33.2 in /usr/local/lib/python3.11/dist-packages (from google-api-core[grpc]!=2.0.*,!=2.1.*,!=2.10.*,!=2.2.*,!=2.3.*,!=2.4.*,!=2.5.*,!=2.6.*,!=2.7.*,!=2.8.*,!=2.9.*,<3.0.0,>=1.34.1->google-ai-generativelanguage<0.7.0,>=0.6.16->langchain_google_genai) (1.71.0)\n",
            "Requirement already satisfied: grpcio-status<2.0.dev0,>=1.33.2 in /usr/local/lib/python3.11/dist-packages (from google-api-core[grpc]!=2.0.*,!=2.1.*,!=2.10.*,!=2.2.*,!=2.3.*,!=2.4.*,!=2.5.*,!=2.6.*,!=2.7.*,!=2.8.*,!=2.9.*,<3.0.0,>=1.34.1->google-ai-generativelanguage<0.7.0,>=0.6.16->langchain_google_genai) (1.71.0)\n",
            "Requirement already satisfied: cachetools<6.0,>=2.0.0 in /usr/local/lib/python3.11/dist-packages (from google-auth!=2.24.0,!=2.25.0,<3.0.0,>=2.14.1->google-ai-generativelanguage<0.7.0,>=0.6.16->langchain_google_genai) (5.5.2)\n",
            "Requirement already satisfied: pyasn1-modules>=0.2.1 in /usr/local/lib/python3.11/dist-packages (from google-auth!=2.24.0,!=2.25.0,<3.0.0,>=2.14.1->google-ai-generativelanguage<0.7.0,>=0.6.16->langchain_google_genai) (0.4.2)\n",
            "Requirement already satisfied: rsa<5,>=3.1.4 in /usr/local/lib/python3.11/dist-packages (from google-auth!=2.24.0,!=2.25.0,<3.0.0,>=2.14.1->google-ai-generativelanguage<0.7.0,>=0.6.16->langchain_google_genai) (4.9.1)\n",
            "Requirement already satisfied: jsonpointer>=1.9 in /usr/local/lib/python3.11/dist-packages (from jsonpatch<2.0,>=1.33->langchain-core<0.4.0,>=0.3.52->langchain_google_genai) (3.0.0)\n",
            "Requirement already satisfied: httpx<1,>=0.23.0 in /usr/local/lib/python3.11/dist-packages (from langsmith<0.4,>=0.1.125->langchain-core<0.4.0,>=0.3.52->langchain_google_genai) (0.28.1)\n",
            "Requirement already satisfied: orjson<4.0.0,>=3.9.14 in /usr/local/lib/python3.11/dist-packages (from langsmith<0.4,>=0.1.125->langchain-core<0.4.0,>=0.3.52->langchain_google_genai) (3.10.16)\n",
            "Requirement already satisfied: requests-toolbelt<2.0.0,>=1.0.0 in /usr/local/lib/python3.11/dist-packages (from langsmith<0.4,>=0.1.125->langchain-core<0.4.0,>=0.3.52->langchain_google_genai) (1.0.0)\n",
            "Requirement already satisfied: zstandard<0.24.0,>=0.23.0 in /usr/local/lib/python3.11/dist-packages (from langsmith<0.4,>=0.1.125->langchain-core<0.4.0,>=0.3.52->langchain_google_genai) (0.23.0)\n",
            "Requirement already satisfied: anyio in /usr/local/lib/python3.11/dist-packages (from httpx<1,>=0.23.0->langsmith<0.4,>=0.1.125->langchain-core<0.4.0,>=0.3.52->langchain_google_genai) (4.9.0)\n",
            "Requirement already satisfied: certifi in /usr/local/lib/python3.11/dist-packages (from httpx<1,>=0.23.0->langsmith<0.4,>=0.1.125->langchain-core<0.4.0,>=0.3.52->langchain_google_genai) (2025.1.31)\n",
            "Requirement already satisfied: httpcore==1.* in /usr/local/lib/python3.11/dist-packages (from httpx<1,>=0.23.0->langsmith<0.4,>=0.1.125->langchain-core<0.4.0,>=0.3.52->langchain_google_genai) (1.0.8)\n",
            "Requirement already satisfied: idna in /usr/local/lib/python3.11/dist-packages (from httpx<1,>=0.23.0->langsmith<0.4,>=0.1.125->langchain-core<0.4.0,>=0.3.52->langchain_google_genai) (3.10)\n",
            "Requirement already satisfied: h11<0.15,>=0.13 in /usr/local/lib/python3.11/dist-packages (from httpcore==1.*->httpx<1,>=0.23.0->langsmith<0.4,>=0.1.125->langchain-core<0.4.0,>=0.3.52->langchain_google_genai) (0.14.0)\n",
            "Requirement already satisfied: pyasn1<0.7.0,>=0.6.1 in /usr/local/lib/python3.11/dist-packages (from pyasn1-modules>=0.2.1->google-auth!=2.24.0,!=2.25.0,<3.0.0,>=2.14.1->google-ai-generativelanguage<0.7.0,>=0.6.16->langchain_google_genai) (0.6.1)\n",
            "Requirement already satisfied: charset-normalizer<4,>=2 in /usr/local/lib/python3.11/dist-packages (from requests<3.0.0,>=2.18.0->google-api-core!=2.0.*,!=2.1.*,!=2.10.*,!=2.2.*,!=2.3.*,!=2.4.*,!=2.5.*,!=2.6.*,!=2.7.*,!=2.8.*,!=2.9.*,<3.0.0,>=1.34.1->google-api-core[grpc]!=2.0.*,!=2.1.*,!=2.10.*,!=2.2.*,!=2.3.*,!=2.4.*,!=2.5.*,!=2.6.*,!=2.7.*,!=2.8.*,!=2.9.*,<3.0.0,>=1.34.1->google-ai-generativelanguage<0.7.0,>=0.6.16->langchain_google_genai) (3.4.1)\n",
            "Requirement already satisfied: urllib3<3,>=1.21.1 in /usr/local/lib/python3.11/dist-packages (from requests<3.0.0,>=2.18.0->google-api-core!=2.0.*,!=2.1.*,!=2.10.*,!=2.2.*,!=2.3.*,!=2.4.*,!=2.5.*,!=2.6.*,!=2.7.*,!=2.8.*,!=2.9.*,<3.0.0,>=1.34.1->google-api-core[grpc]!=2.0.*,!=2.1.*,!=2.10.*,!=2.2.*,!=2.3.*,!=2.4.*,!=2.5.*,!=2.6.*,!=2.7.*,!=2.8.*,!=2.9.*,<3.0.0,>=1.34.1->google-ai-generativelanguage<0.7.0,>=0.6.16->langchain_google_genai) (2.3.0)\n",
            "Requirement already satisfied: sniffio>=1.1 in /usr/local/lib/python3.11/dist-packages (from anyio->httpx<1,>=0.23.0->langsmith<0.4,>=0.1.125->langchain-core<0.4.0,>=0.3.52->langchain_google_genai) (1.3.1)\n"
          ]
        }
      ],
      "source": [
        "!pip install langchain_google_genai"
      ]
    },
    {
      "cell_type": "code",
      "execution_count": null,
      "metadata": {
        "colab": {
          "base_uri": "https://localhost:8080/",
          "height": 536
        },
        "id": "MbJugrh7SX3C",
        "outputId": "1620bf92-9da1-493b-b9f2-3e5a3d13add3"
      },
      "outputs": [
        {
          "name": "stdout",
          "output_type": "stream",
          "text": [
            "\n",
            "Enter your question (or type 'quit' to exit): how much public health units\n",
            "\n",
            "QUESTION: \"how much public health units\"\n"
          ]
        },
        {
          "name": "stderr",
          "output_type": "stream",
          "text": [
            "WARNING:cassandra.protocol:Server warning: Top-K queries can only be run with consistency level ONE / LOCAL_ONE / NODE_LOCAL. Consistency level LOCAL_QUORUM was requested. Downgrading the consistency level to LOCAL_ONE.\n"
          ]
        },
        {
          "name": "stdout",
          "output_type": "stream",
          "text": [
            "ANSWER: \"This document mentions the following about public health units:\n",
            "\n",
            "* **3,382 block public health units** will be set up in 11 states as part of the PM AtmaNirbhar Swasth Bharat Yojana.\n",
            "* **17 new Public Health Units** will be operationalized at Points of Entry.\n",
            "* **33 existing Public Health Units** will be strengthened at Points of Entry.\n",
            "\n",
            "\n",
            "It does not provide a single total number of public health units.\"\n",
            "\n",
            "FIRST DOCUMENTS BY RELEVANCE:\n"
          ]
        },
        {
          "name": "stderr",
          "output_type": "stream",
          "text": [
            "WARNING:cassandra.protocol:Server warning: Top-K queries can only be run with consistency level ONE / LOCAL_ONE / NODE_LOCAL. Consistency level LOCAL_QUORUM was requested. Downgrading the consistency level to LOCAL_ONE.\n"
          ]
        },
        {
          "name": "stdout",
          "output_type": "stream",
          "text": [
            "    [0.8385] \"public health units in  11 states;  \n",
            "c. Establishing critical care hospital blocks i ...\"\n",
            "    [0.7996] \"Health Systems  \n",
            " \n",
            "30. A new centrally sponsored scheme, PM AtmaNirbhar Swasth Bhara ...\"\n",
            "    [0.7917] \"g. Setting up of 15 Health Emergency Operation Centers and 2 mobile \n",
            "hospitals; and  ...\"\n",
            "    [0.7875] \"i. Health and Wellbeing  \n",
            "ii. Physical & Financial Capital, and Infrastructure  5 \n",
            "  ...\"\n",
            "\n",
            "What's your next question (or type 'quit' to exit): quit\n"
          ]
        }
      ],
      "source": [
        "from langchain_google_genai import ChatGoogleGenerativeAI  # Official LangChain integration\n",
        "from langchain.chains import RetrievalQA\n",
        "\n",
        "# Initialize Gemini LLM properly for LangChain\n",
        "llm = ChatGoogleGenerativeAI(\n",
        "    model=\"gemini-1.5-pro\",\n",
        "    google_api_key=\"your_Gemini_API_Key\",  # Same key from AI Studio\n",
        "    temperature=0.7\n",
        ")\n",
        "\n",
        "# Create a RetrievalQA chain instead of direct query\n",
        "qa_chain = RetrievalQA.from_chain_type(\n",
        "    llm=llm,\n",
        "    chain_type=\"stuff\",\n",
        "    retriever=astra_vector_store.as_retriever()\n",
        ")\n",
        "\n",
        "# Modified question loop\n",
        "first_question = True\n",
        "while True:\n",
        "    if first_question:\n",
        "        query_text = input(\"\\nEnter your question (or type 'quit' to exit): \").strip()\n",
        "    else:\n",
        "        query_text = input(\"\\nWhat's your next question (or type 'quit' to exit): \").strip()\n",
        "\n",
        "    if query_text.lower() == \"quit\":\n",
        "        break\n",
        "\n",
        "    if query_text == \"\":\n",
        "        continue\n",
        "\n",
        "    first_question = False\n",
        "\n",
        "    print(\"\\nQUESTION: \\\"%s\\\"\" % query_text)\n",
        "\n",
        "    # Use the QA chain instead of direct query\n",
        "    answer = qa_chain.invoke({\"query\": query_text})[\"result\"].strip()\n",
        "    print(\"ANSWER: \\\"%s\\\"\\n\" % answer)\n",
        "\n",
        "    print(\"FIRST DOCUMENTS BY RELEVANCE:\")\n",
        "    for doc, score in astra_vector_store.similarity_search_with_score(query_text, k=4):\n",
        "        print(\"    [%0.4f] \\\"%s ...\\\"\" % (score, doc.page_content[:84]))"
      ]
    },
    {
      "cell_type": "code",
      "execution_count": null,
      "metadata": {
        "id": "dSaUPguw389l"
      },
      "outputs": [],
      "source": []
    }
  ],
  "metadata": {
    "colab": {
      "provenance": []
    },
    "kaggle": {
      "accelerator": "none",
      "dataSources": [
        {
          "datasetId": 7018928,
          "sourceId": 11235568,
          "sourceType": "datasetVersion"
        }
      ],
      "dockerImageVersionId": 30919,
      "isGpuEnabled": false,
      "isInternetEnabled": true,
      "language": "python",
      "sourceType": "notebook"
    },
    "kernelspec": {
      "display_name": "Python 3",
      "language": "python",
      "name": "python3"
    },
    "language_info": {
      "codemirror_mode": {
        "name": "ipython",
        "version": 3
      },
      "file_extension": ".py",
      "mimetype": "text/x-python",
      "name": "python",
      "nbconvert_exporter": "python",
      "pygments_lexer": "ipython3",
      "version": "3.10.12"
    }
  },
  "nbformat": 4,
  "nbformat_minor": 0
}
